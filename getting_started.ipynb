{
 "cells": [
  {
   "cell_type": "markdown",
   "metadata": {},
   "source": [
    "# Task 1\n",
    "\n",
    "---\n",
    "\n",
    "## Web scraping and analysis\n",
    "\n",
    "This Jupyter notebook includes some code to get you started with web scraping. We will use a package called `BeautifulSoup` to collect the data from the web. Once you've collected your data and saved it into a local `.csv` file you should start with your analysis.\n",
    "\n",
    "### Scraping data from Skytrax\n",
    "\n",
    "If you visit [https://www.airlinequality.com] you can see that there is a lot of data there. For this task, we are only interested in reviews related to British Airways and the Airline itself.\n",
    "\n",
    "If you navigate to this link: [https://www.airlinequality.com/airline-reviews/british-airways] you will see this data. Now, we can use `Python` and `BeautifulSoup` to collect all the links to the reviews and then to collect the text data on each of the individual review links."
   ]
  },
  {
   "cell_type": "code",
   "execution_count": 1,
   "metadata": {},
   "outputs": [],
   "source": [
    "import requests\n",
    "from bs4 import BeautifulSoup\n",
    "import pandas as pd"
   ]
  },
  {
   "cell_type": "code",
   "execution_count": 2,
   "metadata": {},
   "outputs": [
    {
     "name": "stdout",
     "output_type": "stream",
     "text": [
      "Scraping page 1\n",
      "   ---> 100 total reviews\n",
      "Scraping page 2\n",
      "   ---> 200 total reviews\n",
      "Scraping page 3\n",
      "   ---> 300 total reviews\n",
      "Scraping page 4\n",
      "   ---> 400 total reviews\n",
      "Scraping page 5\n",
      "   ---> 500 total reviews\n",
      "Scraping page 6\n",
      "   ---> 600 total reviews\n",
      "Scraping page 7\n",
      "   ---> 700 total reviews\n",
      "Scraping page 8\n",
      "   ---> 800 total reviews\n",
      "Scraping page 9\n",
      "   ---> 900 total reviews\n",
      "Scraping page 10\n",
      "   ---> 1000 total reviews\n"
     ]
    }
   ],
   "source": [
    "base_url = \"https://www.airlinequality.com/airline-reviews/british-airways\"\n",
    "pages = 10\n",
    "page_size = 100\n",
    "\n",
    "reviews = []\n",
    "\n",
    "# for i in range(1, pages + 1):\n",
    "for i in range(1, pages + 1):\n",
    "\n",
    "    print(f\"Scraping page {i}\")\n",
    "\n",
    "    # Create URL to collect links from paginated data\n",
    "    url = f\"{base_url}/page/{i}/?sortby=post_date%3ADesc&pagesize={page_size}\"\n",
    "\n",
    "    # Collect HTML data from this page\n",
    "    response = requests.get(url)\n",
    "\n",
    "    # Parse content\n",
    "    content = response.content\n",
    "    parsed_content = BeautifulSoup(content, 'html.parser')\n",
    "    for para in parsed_content.find_all(\"div\", {\"class\": \"text_content\"}):\n",
    "        reviews.append(para.get_text())\n",
    "    \n",
    "    print(f\"   ---> {len(reviews)} total reviews\")"
   ]
  },
  {
   "cell_type": "code",
   "execution_count": 3,
   "metadata": {},
   "outputs": [
    {
     "data": {
      "text/html": [
       "<div>\n",
       "<style scoped>\n",
       "    .dataframe tbody tr th:only-of-type {\n",
       "        vertical-align: middle;\n",
       "    }\n",
       "\n",
       "    .dataframe tbody tr th {\n",
       "        vertical-align: top;\n",
       "    }\n",
       "\n",
       "    .dataframe thead th {\n",
       "        text-align: right;\n",
       "    }\n",
       "</style>\n",
       "<table border=\"1\" class=\"dataframe\">\n",
       "  <thead>\n",
       "    <tr style=\"text-align: right;\">\n",
       "      <th></th>\n",
       "      <th>reviews</th>\n",
       "    </tr>\n",
       "  </thead>\n",
       "  <tbody>\n",
       "    <tr>\n",
       "      <th>0</th>\n",
       "      <td>Not Verified | Top Ten REASONS to not use Brit...</td>\n",
       "    </tr>\n",
       "    <tr>\n",
       "      <th>1</th>\n",
       "      <td>Not Verified |  Easy check in on the way to He...</td>\n",
       "    </tr>\n",
       "    <tr>\n",
       "      <th>2</th>\n",
       "      <td>✅ Trip Verified |  Online check in worked fine...</td>\n",
       "    </tr>\n",
       "    <tr>\n",
       "      <th>3</th>\n",
       "      <td>✅ Trip Verified |. The BA first lounge at Term...</td>\n",
       "    </tr>\n",
       "    <tr>\n",
       "      <th>4</th>\n",
       "      <td>Not Verified | Paid a quick visit to Nice yest...</td>\n",
       "    </tr>\n",
       "  </tbody>\n",
       "</table>\n",
       "</div>"
      ],
      "text/plain": [
       "                                             reviews\n",
       "0  Not Verified | Top Ten REASONS to not use Brit...\n",
       "1  Not Verified |  Easy check in on the way to He...\n",
       "2  ✅ Trip Verified |  Online check in worked fine...\n",
       "3  ✅ Trip Verified |. The BA first lounge at Term...\n",
       "4  Not Verified | Paid a quick visit to Nice yest..."
      ]
     },
     "execution_count": 3,
     "metadata": {},
     "output_type": "execute_result"
    }
   ],
   "source": [
    "df = pd.DataFrame()\n",
    "df[\"reviews\"] = reviews\n",
    "df.head()"
   ]
  },
  {
   "cell_type": "code",
   "execution_count": 4,
   "metadata": {},
   "outputs": [],
   "source": [
    "df.to_csv(\"BA_reviews.csv\")"
   ]
  },
  {
   "cell_type": "markdown",
   "metadata": {},
   "source": [
    "Congratulations! Now you have your dataset for this task! The loops above collected 1000 reviews by iterating through the paginated pages on the website. However, if you want to collect more data, try increasing the number of pages!\n",
    "\n",
    " The next thing that you should do is clean this data to remove any unnecessary text from each of the rows. For example, \"✅ Trip Verified\" can be removed from each row if it exists, as it's not relevant to what we want to investigate."
   ]
  },
  {
   "cell_type": "code",
   "execution_count": 5,
   "metadata": {},
   "outputs": [
    {
     "data": {
      "text/html": [
       "<div>\n",
       "<style scoped>\n",
       "    .dataframe tbody tr th:only-of-type {\n",
       "        vertical-align: middle;\n",
       "    }\n",
       "\n",
       "    .dataframe tbody tr th {\n",
       "        vertical-align: top;\n",
       "    }\n",
       "\n",
       "    .dataframe thead th {\n",
       "        text-align: right;\n",
       "    }\n",
       "</style>\n",
       "<table border=\"1\" class=\"dataframe\">\n",
       "  <thead>\n",
       "    <tr style=\"text-align: right;\">\n",
       "      <th></th>\n",
       "      <th>reviews</th>\n",
       "    </tr>\n",
       "  </thead>\n",
       "  <tbody>\n",
       "    <tr>\n",
       "      <th>0</th>\n",
       "      <td>Not Verified | Top Ten REASONS to not use Brit...</td>\n",
       "    </tr>\n",
       "    <tr>\n",
       "      <th>1</th>\n",
       "      <td>Not Verified |  Easy check in on the way to He...</td>\n",
       "    </tr>\n",
       "    <tr>\n",
       "      <th>2</th>\n",
       "      <td>✅ Trip Verified |  Online check in worked fine...</td>\n",
       "    </tr>\n",
       "    <tr>\n",
       "      <th>3</th>\n",
       "      <td>✅ Trip Verified |. The BA first lounge at Term...</td>\n",
       "    </tr>\n",
       "    <tr>\n",
       "      <th>4</th>\n",
       "      <td>Not Verified | Paid a quick visit to Nice yest...</td>\n",
       "    </tr>\n",
       "  </tbody>\n",
       "</table>\n",
       "</div>"
      ],
      "text/plain": [
       "                                             reviews\n",
       "0  Not Verified | Top Ten REASONS to not use Brit...\n",
       "1  Not Verified |  Easy check in on the way to He...\n",
       "2  ✅ Trip Verified |  Online check in worked fine...\n",
       "3  ✅ Trip Verified |. The BA first lounge at Term...\n",
       "4  Not Verified | Paid a quick visit to Nice yest..."
      ]
     },
     "execution_count": 5,
     "metadata": {},
     "output_type": "execute_result"
    }
   ],
   "source": [
    "df.head(5)"
   ]
  },
  {
   "cell_type": "code",
   "execution_count": 6,
   "metadata": {},
   "outputs": [
    {
     "name": "stdout",
     "output_type": "stream",
     "text": [
      "<class 'pandas.core.frame.DataFrame'>\n",
      "RangeIndex: 1000 entries, 0 to 999\n",
      "Data columns (total 1 columns):\n",
      " #   Column   Non-Null Count  Dtype \n",
      "---  ------   --------------  ----- \n",
      " 0   reviews  1000 non-null   object\n",
      "dtypes: object(1)\n",
      "memory usage: 7.9+ KB\n"
     ]
    }
   ],
   "source": [
    "df.info()"
   ]
  },
  {
   "cell_type": "code",
   "execution_count": 7,
   "metadata": {},
   "outputs": [
    {
     "data": {
      "text/html": [
       "<div>\n",
       "<style scoped>\n",
       "    .dataframe tbody tr th:only-of-type {\n",
       "        vertical-align: middle;\n",
       "    }\n",
       "\n",
       "    .dataframe tbody tr th {\n",
       "        vertical-align: top;\n",
       "    }\n",
       "\n",
       "    .dataframe thead th {\n",
       "        text-align: right;\n",
       "    }\n",
       "</style>\n",
       "<table border=\"1\" class=\"dataframe\">\n",
       "  <thead>\n",
       "    <tr style=\"text-align: right;\">\n",
       "      <th></th>\n",
       "      <th>reviews</th>\n",
       "    </tr>\n",
       "  </thead>\n",
       "  <tbody>\n",
       "    <tr>\n",
       "      <th>count</th>\n",
       "      <td>1000</td>\n",
       "    </tr>\n",
       "    <tr>\n",
       "      <th>unique</th>\n",
       "      <td>1000</td>\n",
       "    </tr>\n",
       "    <tr>\n",
       "      <th>top</th>\n",
       "      <td>✅ Trip Verified |  Athens to Los Angeles via L...</td>\n",
       "    </tr>\n",
       "    <tr>\n",
       "      <th>freq</th>\n",
       "      <td>1</td>\n",
       "    </tr>\n",
       "  </tbody>\n",
       "</table>\n",
       "</div>"
      ],
      "text/plain": [
       "                                                  reviews\n",
       "count                                                1000\n",
       "unique                                               1000\n",
       "top     ✅ Trip Verified |  Athens to Los Angeles via L...\n",
       "freq                                                    1"
      ]
     },
     "execution_count": 7,
     "metadata": {},
     "output_type": "execute_result"
    }
   ],
   "source": [
    "df.describe()"
   ]
  },
  {
   "cell_type": "code",
   "execution_count": null,
   "metadata": {},
   "outputs": [],
   "source": []
  },
  {
   "cell_type": "code",
   "execution_count": null,
   "metadata": {},
   "outputs": [],
   "source": []
  },
  {
   "cell_type": "code",
   "execution_count": 8,
   "metadata": {},
   "outputs": [],
   "source": [
    "t='ahmed'"
   ]
  },
  {
   "cell_type": "code",
   "execution_count": 9,
   "metadata": {},
   "outputs": [],
   "source": [
    "u=t.rsplit('ah')"
   ]
  },
  {
   "cell_type": "code",
   "execution_count": 10,
   "metadata": {},
   "outputs": [],
   "source": [
    "u.remove(u[0])"
   ]
  },
  {
   "cell_type": "code",
   "execution_count": 11,
   "metadata": {},
   "outputs": [
    {
     "data": {
      "text/plain": [
       "['med']"
      ]
     },
     "execution_count": 11,
     "metadata": {},
     "output_type": "execute_result"
    }
   ],
   "source": [
    "u"
   ]
  },
  {
   "cell_type": "code",
   "execution_count": 12,
   "metadata": {},
   "outputs": [
    {
     "data": {
      "text/plain": [
       "'med'"
      ]
     },
     "execution_count": 12,
     "metadata": {},
     "output_type": "execute_result"
    }
   ],
   "source": [
    "u[0]"
   ]
  },
  {
   "cell_type": "code",
   "execution_count": 13,
   "metadata": {},
   "outputs": [],
   "source": [
    "df[\"reviews\"]= df[\"reviews\"].str.split(\"|\", n = 2, expand = False)\n",
    "    \n",
    "    "
   ]
  },
  {
   "cell_type": "code",
   "execution_count": 14,
   "metadata": {},
   "outputs": [
    {
     "data": {
      "text/plain": [
       "0      [Not Verified ,  Top Ten REASONS to not use Br...\n",
       "1      [Not Verified ,   Easy check in on the way to ...\n",
       "2      [✅ Trip Verified ,   Online check in worked fi...\n",
       "3      [✅ Trip Verified , . The BA first lounge at Te...\n",
       "4      [Not Verified ,  Paid a quick visit to Nice ye...\n",
       "                             ...                        \n",
       "995    [✅ Trip Verified ,   Aberdeen to Boston via Lo...\n",
       "996    [✅ Trip Verified ,   London to Hamburg. Baggag...\n",
       "997    [✅ Trip Verified ,  Flew London Heathrow to Ho...\n",
       "998    [✅ Trip Verified ,  Flew to Istanbul with Brit...\n",
       "999    [✅ Trip Verified ,   Munich to London Heathrow...\n",
       "Name: reviews, Length: 1000, dtype: object"
      ]
     },
     "execution_count": 14,
     "metadata": {},
     "output_type": "execute_result"
    }
   ],
   "source": [
    "df['reviews']"
   ]
  },
  {
   "cell_type": "code",
   "execution_count": 15,
   "metadata": {},
   "outputs": [],
   "source": [
    "for i in df[\"reviews\"]:\n",
    "    i.remove(i[0])"
   ]
  },
  {
   "cell_type": "code",
   "execution_count": 16,
   "metadata": {},
   "outputs": [
    {
     "data": {
      "text/plain": [
       "[\". The BA first lounge at Terminal 5 was a\\xa0 zoo at 2pm, dirty tables and used tableware everywhere. Worse than this, the usual atrocious boarding gate service, and boarding started 50 mins late. The flight was operated by a Finnair A320, which is barely low cost standard let alone business class. Hard, thin, uncomfortable seats, poor legroom and the cabin was simply tatty - I remain shocked that BA allow this, and it's time for BA's CEO and management focused on standards rather than bean counting. Finnair cabin staff were fundamentally courteous, but they provide a very trimmed down, budget airline type service, as the whole trip turned out to be - and yet this business class ticket was one of the more expensive on recent trips. I thought post Covid that BA were better for a few months, but with\\xa0the many cost cuts they are making, they fall well below all other European full service Airlines.\\xa0\"]"
      ]
     },
     "execution_count": 16,
     "metadata": {},
     "output_type": "execute_result"
    }
   ],
   "source": [
    "df['reviews'][3]"
   ]
  },
  {
   "cell_type": "code",
   "execution_count": 17,
   "metadata": {},
   "outputs": [
    {
     "name": "stdout",
     "output_type": "stream",
     "text": [
      "<class 'pandas.core.frame.DataFrame'>\n",
      "RangeIndex: 1000 entries, 0 to 999\n",
      "Data columns (total 1 columns):\n",
      " #   Column   Non-Null Count  Dtype \n",
      "---  ------   --------------  ----- \n",
      " 0   reviews  1000 non-null   object\n",
      "dtypes: object(1)\n",
      "memory usage: 7.9+ KB\n"
     ]
    }
   ],
   "source": [
    "df.info()"
   ]
  },
  {
   "cell_type": "code",
   "execution_count": 18,
   "metadata": {},
   "outputs": [
    {
     "data": {
      "text/plain": [
       "0      [ Top Ten REASONS to not use British Airways T...\n",
       "1      [  Easy check in on the way to Heathrow. The f...\n",
       "2      [  Online check in worked fine. Quick security...\n",
       "3      [. The BA first lounge at Terminal 5 was a  zo...\n",
       "4      [ Paid a quick visit to Nice yesterday from He...\n",
       "                             ...                        \n",
       "995    [  Aberdeen to Boston via London Heathrow. I f...\n",
       "996    [  London to Hamburg. Baggage self-check-in wa...\n",
       "997    [ Flew London Heathrow to Hong Kong with Briti...\n",
       "998    [ Flew to Istanbul with British Airways on 5th...\n",
       "999    [  Munich to London Heathrow with British Airw...\n",
       "Name: reviews, Length: 1000, dtype: object"
      ]
     },
     "execution_count": 18,
     "metadata": {},
     "output_type": "execute_result"
    }
   ],
   "source": [
    "df['reviews']"
   ]
  },
  {
   "cell_type": "code",
   "execution_count": 19,
   "metadata": {},
   "outputs": [
    {
     "data": {
      "text/html": [
       "<div>\n",
       "<style scoped>\n",
       "    .dataframe tbody tr th:only-of-type {\n",
       "        vertical-align: middle;\n",
       "    }\n",
       "\n",
       "    .dataframe tbody tr th {\n",
       "        vertical-align: top;\n",
       "    }\n",
       "\n",
       "    .dataframe thead th {\n",
       "        text-align: right;\n",
       "    }\n",
       "</style>\n",
       "<table border=\"1\" class=\"dataframe\">\n",
       "  <thead>\n",
       "    <tr style=\"text-align: right;\">\n",
       "      <th></th>\n",
       "      <th>reviews</th>\n",
       "    </tr>\n",
       "  </thead>\n",
       "  <tbody>\n",
       "    <tr>\n",
       "      <th>0</th>\n",
       "      <td>[ Top Ten REASONS to not use British Airways T...</td>\n",
       "    </tr>\n",
       "    <tr>\n",
       "      <th>1</th>\n",
       "      <td>[  Easy check in on the way to Heathrow. The f...</td>\n",
       "    </tr>\n",
       "    <tr>\n",
       "      <th>2</th>\n",
       "      <td>[  Online check in worked fine. Quick security...</td>\n",
       "    </tr>\n",
       "    <tr>\n",
       "      <th>3</th>\n",
       "      <td>[. The BA first lounge at Terminal 5 was a  zo...</td>\n",
       "    </tr>\n",
       "  </tbody>\n",
       "</table>\n",
       "</div>"
      ],
      "text/plain": [
       "                                             reviews\n",
       "0  [ Top Ten REASONS to not use British Airways T...\n",
       "1  [  Easy check in on the way to Heathrow. The f...\n",
       "2  [  Online check in worked fine. Quick security...\n",
       "3  [. The BA first lounge at Terminal 5 was a  zo..."
      ]
     },
     "execution_count": 19,
     "metadata": {},
     "output_type": "execute_result"
    }
   ],
   "source": [
    " df.head(4)"
   ]
  },
  {
   "cell_type": "code",
   "execution_count": 20,
   "metadata": {},
   "outputs": [],
   "source": [
    "#[1]\n",
    "df['reviews'] = [','.join(map(str, l)) for l in df['reviews']]"
   ]
  },
  {
   "cell_type": "code",
   "execution_count": 21,
   "metadata": {},
   "outputs": [
    {
     "data": {
      "text/plain": [
       "0       Top Ten REASONS to not use British Airways To...\n",
       "1        Easy check in on the way to Heathrow. The fl...\n",
       "2        Online check in worked fine. Quick security ...\n",
       "3      . The BA first lounge at Terminal 5 was a  zoo...\n",
       "4       Paid a quick visit to Nice yesterday from Hea...\n",
       "                             ...                        \n",
       "995      Aberdeen to Boston via London Heathrow. I fo...\n",
       "996      London to Hamburg. Baggage self-check-in was...\n",
       "997     Flew London Heathrow to Hong Kong with Britis...\n",
       "998     Flew to Istanbul with British Airways on 5th ...\n",
       "999      Munich to London Heathrow with British Airwa...\n",
       "Name: reviews, Length: 1000, dtype: object"
      ]
     },
     "execution_count": 21,
     "metadata": {},
     "output_type": "execute_result"
    }
   ],
   "source": [
    "df['reviews']"
   ]
  },
  {
   "cell_type": "code",
   "execution_count": 22,
   "metadata": {},
   "outputs": [
    {
     "name": "stdout",
     "output_type": "stream",
     "text": [
      "<class 'pandas.core.frame.DataFrame'>\n",
      "RangeIndex: 1000 entries, 0 to 999\n",
      "Data columns (total 1 columns):\n",
      " #   Column   Non-Null Count  Dtype \n",
      "---  ------   --------------  ----- \n",
      " 0   reviews  1000 non-null   object\n",
      "dtypes: object(1)\n",
      "memory usage: 7.9+ KB\n"
     ]
    }
   ],
   "source": [
    "df.info()"
   ]
  },
  {
   "cell_type": "code",
   "execution_count": 23,
   "metadata": {},
   "outputs": [
    {
     "name": "stdout",
     "output_type": "stream",
     "text": [
      "<class 'pandas.core.frame.DataFrame'>\n",
      "RangeIndex: 1000 entries, 0 to 999\n",
      "Data columns (total 1 columns):\n",
      " #   Column   Non-Null Count  Dtype \n",
      "---  ------   --------------  ----- \n",
      " 0   reviews  1000 non-null   object\n",
      "dtypes: object(1)\n",
      "memory usage: 7.9+ KB\n"
     ]
    }
   ],
   "source": [
    "df.info()"
   ]
  },
  {
   "cell_type": "code",
   "execution_count": 24,
   "metadata": {},
   "outputs": [
    {
     "data": {
      "text/html": [
       "<div>\n",
       "<style scoped>\n",
       "    .dataframe tbody tr th:only-of-type {\n",
       "        vertical-align: middle;\n",
       "    }\n",
       "\n",
       "    .dataframe tbody tr th {\n",
       "        vertical-align: top;\n",
       "    }\n",
       "\n",
       "    .dataframe thead th {\n",
       "        text-align: right;\n",
       "    }\n",
       "</style>\n",
       "<table border=\"1\" class=\"dataframe\">\n",
       "  <thead>\n",
       "    <tr style=\"text-align: right;\">\n",
       "      <th></th>\n",
       "      <th>reviews</th>\n",
       "    </tr>\n",
       "  </thead>\n",
       "  <tbody>\n",
       "    <tr>\n",
       "      <th>0</th>\n",
       "      <td>Top Ten REASONS to not use British Airways To...</td>\n",
       "    </tr>\n",
       "    <tr>\n",
       "      <th>1</th>\n",
       "      <td>Easy check in on the way to Heathrow. The fl...</td>\n",
       "    </tr>\n",
       "    <tr>\n",
       "      <th>2</th>\n",
       "      <td>Online check in worked fine. Quick security ...</td>\n",
       "    </tr>\n",
       "    <tr>\n",
       "      <th>3</th>\n",
       "      <td>. The BA first lounge at Terminal 5 was a  zoo...</td>\n",
       "    </tr>\n",
       "    <tr>\n",
       "      <th>4</th>\n",
       "      <td>Paid a quick visit to Nice yesterday from Hea...</td>\n",
       "    </tr>\n",
       "    <tr>\n",
       "      <th>5</th>\n",
       "      <td>Words fail to describe this last awful fligh...</td>\n",
       "    </tr>\n",
       "    <tr>\n",
       "      <th>6</th>\n",
       "      <td>Absolutely terrible experience. The app woul...</td>\n",
       "    </tr>\n",
       "    <tr>\n",
       "      <th>7</th>\n",
       "      <td>BA overbook every flight to maximise their in...</td>\n",
       "    </tr>\n",
       "    <tr>\n",
       "      <th>8</th>\n",
       "      <td>\\r\\nThe flights were all on time, except Bel...</td>\n",
       "    </tr>\n",
       "    <tr>\n",
       "      <th>9</th>\n",
       "      <td>Only the second time flying BA as first time ...</td>\n",
       "    </tr>\n",
       "  </tbody>\n",
       "</table>\n",
       "</div>"
      ],
      "text/plain": [
       "                                             reviews\n",
       "0   Top Ten REASONS to not use British Airways To...\n",
       "1    Easy check in on the way to Heathrow. The fl...\n",
       "2    Online check in worked fine. Quick security ...\n",
       "3  . The BA first lounge at Terminal 5 was a  zoo...\n",
       "4   Paid a quick visit to Nice yesterday from Hea...\n",
       "5    Words fail to describe this last awful fligh...\n",
       "6    Absolutely terrible experience. The app woul...\n",
       "7   BA overbook every flight to maximise their in...\n",
       "8    \\r\\nThe flights were all on time, except Bel...\n",
       "9   Only the second time flying BA as first time ..."
      ]
     },
     "execution_count": 24,
     "metadata": {},
     "output_type": "execute_result"
    }
   ],
   "source": [
    "df.head(10)"
   ]
  },
  {
   "cell_type": "code",
   "execution_count": 25,
   "metadata": {},
   "outputs": [],
   "source": [
    "#[2]\n",
    "df[df.columns] = df.apply(lambda x: x.str.strip())"
   ]
  },
  {
   "cell_type": "code",
   "execution_count": 26,
   "metadata": {},
   "outputs": [
    {
     "data": {
      "text/html": [
       "<div>\n",
       "<style scoped>\n",
       "    .dataframe tbody tr th:only-of-type {\n",
       "        vertical-align: middle;\n",
       "    }\n",
       "\n",
       "    .dataframe tbody tr th {\n",
       "        vertical-align: top;\n",
       "    }\n",
       "\n",
       "    .dataframe thead th {\n",
       "        text-align: right;\n",
       "    }\n",
       "</style>\n",
       "<table border=\"1\" class=\"dataframe\">\n",
       "  <thead>\n",
       "    <tr style=\"text-align: right;\">\n",
       "      <th></th>\n",
       "      <th>reviews</th>\n",
       "    </tr>\n",
       "  </thead>\n",
       "  <tbody>\n",
       "    <tr>\n",
       "      <th>0</th>\n",
       "      <td>Top Ten REASONS to not use British Airways To ...</td>\n",
       "    </tr>\n",
       "    <tr>\n",
       "      <th>1</th>\n",
       "      <td>Easy check in on the way to Heathrow. The flig...</td>\n",
       "    </tr>\n",
       "    <tr>\n",
       "      <th>2</th>\n",
       "      <td>Online check in worked fine. Quick security ch...</td>\n",
       "    </tr>\n",
       "    <tr>\n",
       "      <th>3</th>\n",
       "      <td>. The BA first lounge at Terminal 5 was a  zoo...</td>\n",
       "    </tr>\n",
       "    <tr>\n",
       "      <th>4</th>\n",
       "      <td>Paid a quick visit to Nice yesterday from Heat...</td>\n",
       "    </tr>\n",
       "    <tr>\n",
       "      <th>5</th>\n",
       "      <td>Words fail to describe this last awful flight ...</td>\n",
       "    </tr>\n",
       "    <tr>\n",
       "      <th>6</th>\n",
       "      <td>Absolutely terrible experience. The app would ...</td>\n",
       "    </tr>\n",
       "    <tr>\n",
       "      <th>7</th>\n",
       "      <td>BA overbook every flight to maximise their inc...</td>\n",
       "    </tr>\n",
       "    <tr>\n",
       "      <th>8</th>\n",
       "      <td>The flights were all on time, except Belfast f...</td>\n",
       "    </tr>\n",
       "    <tr>\n",
       "      <th>9</th>\n",
       "      <td>Only the second time flying BA as first time w...</td>\n",
       "    </tr>\n",
       "  </tbody>\n",
       "</table>\n",
       "</div>"
      ],
      "text/plain": [
       "                                             reviews\n",
       "0  Top Ten REASONS to not use British Airways To ...\n",
       "1  Easy check in on the way to Heathrow. The flig...\n",
       "2  Online check in worked fine. Quick security ch...\n",
       "3  . The BA first lounge at Terminal 5 was a  zoo...\n",
       "4  Paid a quick visit to Nice yesterday from Heat...\n",
       "5  Words fail to describe this last awful flight ...\n",
       "6  Absolutely terrible experience. The app would ...\n",
       "7  BA overbook every flight to maximise their inc...\n",
       "8  The flights were all on time, except Belfast f...\n",
       "9  Only the second time flying BA as first time w..."
      ]
     },
     "execution_count": 26,
     "metadata": {},
     "output_type": "execute_result"
    }
   ],
   "source": [
    "df.head(10)"
   ]
  },
  {
   "cell_type": "code",
   "execution_count": 27,
   "metadata": {},
   "outputs": [
    {
     "data": {
      "text/plain": [
       "\"Words fail to describe this last awful flight - baby across the aisle crying for most of the flight and although horrible to go without any rest for the long flight LHR/SFO, it's understandable for a baby to cry nonstop - but the crew yakking loudly in the galley even after a polite notification that their conversation could be heard in the cabin - that made the flight unbearable for any rest or sleep (always difficult anyway westbound). The food was so bad that most  turned down whatever the nasty offering was on the 2nd service. What happened to the really nice tea and scones? I've said this before after suffering through the BA concept of customer service (i.e. don't do anything to help the passenger if it involves any extra work) - this time i swear i mean it - never again on BA please! The lounge was so packed even a single traveler had a hard time finding a seat - poor BA is on the skids downhill.\""
      ]
     },
     "execution_count": 27,
     "metadata": {},
     "output_type": "execute_result"
    }
   ],
   "source": [
    "df['reviews'][5]"
   ]
  },
  {
   "cell_type": "code",
   "execution_count": 28,
   "metadata": {},
   "outputs": [
    {
     "data": {
      "text/plain": [
       "0    top ten reasons to not use british airways to ...\n",
       "1    easy check in on the way to heathrow the fligh...\n",
       "2    online check in worked fine quick security che...\n",
       "3     the ba first lounge at terminal 5 was a zoo a...\n",
       "4    paid a quick visit to nice yesterday from heat...\n",
       "Name: reviews_processed, dtype: object"
      ]
     },
     "execution_count": 28,
     "metadata": {},
     "output_type": "execute_result"
    }
   ],
   "source": [
    "#data cleaning \n",
    "#1:remove unicode characters\n",
    "#2: lower the case\n",
    "#3:remove stopwords :words that dont give meaning in english\n",
    "#4:\n",
    "[3]\n",
    "#Remove punctuation/lower casing\n",
    "# Load the regular expression library\n",
    "import re\n",
    "# Remove punctuation (unicode characters)\n",
    "df['reviews_processed'] = \\\n",
    "df['reviews'].map(lambda x: re.sub('(@\\[A-Za-z0-9]+)|([^0-9A-Za-z \\t])|(\\w+:\\/\\/\\S+)|^rt|http.+?', '', x))\n",
    "# Convert the titles to lowercase\n",
    "df['reviews_processed'] = \\\n",
    "df['reviews_processed'].map(lambda x: x.lower())\n",
    "# Print out the first rows of papers\n",
    "df['reviews_processed'].head()"
   ]
  },
  {
   "cell_type": "code",
   "execution_count": 29,
   "metadata": {},
   "outputs": [
    {
     "name": "stderr",
     "output_type": "stream",
     "text": [
      "[nltk_data] Downloading package stopwords to\n",
      "[nltk_data]     C:\\Users\\eng_m\\AppData\\Roaming\\nltk_data...\n",
      "[nltk_data]   Package stopwords is already up-to-date!\n"
     ]
    }
   ],
   "source": [
    "import nltk.corpus\n",
    "nltk.download('stopwords')\n",
    "from nltk.corpus import stopwords\n",
    "\n",
    "\n"
   ]
  },
  {
   "cell_type": "code",
   "execution_count": 31,
   "metadata": {},
   "outputs": [
    {
     "data": {
      "text/plain": [
       "0      top ten reasons use british airways aware noti...\n",
       "1      easy check way heathrow flight time issues ret...\n",
       "2      online check worked fine quick security check ...\n",
       "3      ba first lounge terminal 5 zoo 2pm dirty table...\n",
       "4      paid quick visit nice yesterday heathrow decid...\n",
       "                             ...                        \n",
       "995    aberdeen boston via london heathrow found seat...\n",
       "996    london hamburg baggage selfcheckin diabolical ...\n",
       "997    flew london heathrow hong kong british airways...\n",
       "998    flew istanbul british airways 5th june passpor...\n",
       "999    munich london heathrow british airways booked ...\n",
       "Name: reviews_processed, Length: 1000, dtype: object"
      ]
     },
     "execution_count": 31,
     "metadata": {},
     "output_type": "execute_result"
    }
   ],
   "source": [
    "stop = stopwords.words('english')\n",
    "#text = \"my package from amazon never arrived fix this asap\"\n",
    "\n",
    "df['reviews_processed'].map(lambda x: ' '.join([word for word in x.split() if word not in (stop)]))\n",
    "\n",
    "\n",
    "\n",
    "#text = \" \".join(\\[word for word in text.split() if word not in (stop)])"
   ]
  },
  {
   "cell_type": "code",
   "execution_count": 34,
   "metadata": {},
   "outputs": [
    {
     "name": "stdout",
     "output_type": "stream",
     "text": [
      "package amazon never arrived fix asap\n"
     ]
    }
   ],
   "source": [
    "#test :\n",
    "text = \"my package from amazon never arrived fix this asap\"\n",
    "text = \" \".join([word for word in text.split() if word not in (stop)])\n",
    "\n",
    "print(text)"
   ]
  },
  {
   "cell_type": "code",
   "execution_count": 33,
   "metadata": {},
   "outputs": [
    {
     "data": {
      "text/html": [
       "<div>\n",
       "<style scoped>\n",
       "    .dataframe tbody tr th:only-of-type {\n",
       "        vertical-align: middle;\n",
       "    }\n",
       "\n",
       "    .dataframe tbody tr th {\n",
       "        vertical-align: top;\n",
       "    }\n",
       "\n",
       "    .dataframe thead th {\n",
       "        text-align: right;\n",
       "    }\n",
       "</style>\n",
       "<table border=\"1\" class=\"dataframe\">\n",
       "  <thead>\n",
       "    <tr style=\"text-align: right;\">\n",
       "      <th></th>\n",
       "      <th>reviews</th>\n",
       "      <th>reviews_processed</th>\n",
       "    </tr>\n",
       "  </thead>\n",
       "  <tbody>\n",
       "    <tr>\n",
       "      <th>0</th>\n",
       "      <td>Top Ten REASONS to not use British Airways To ...</td>\n",
       "      <td>top ten reasons to not use british airways to ...</td>\n",
       "    </tr>\n",
       "    <tr>\n",
       "      <th>1</th>\n",
       "      <td>Easy check in on the way to Heathrow. The flig...</td>\n",
       "      <td>easy check in on the way to heathrow the fligh...</td>\n",
       "    </tr>\n",
       "    <tr>\n",
       "      <th>2</th>\n",
       "      <td>Online check in worked fine. Quick security ch...</td>\n",
       "      <td>online check in worked fine quick security che...</td>\n",
       "    </tr>\n",
       "    <tr>\n",
       "      <th>3</th>\n",
       "      <td>. The BA first lounge at Terminal 5 was a  zoo...</td>\n",
       "      <td>the ba first lounge at terminal 5 was a zoo a...</td>\n",
       "    </tr>\n",
       "    <tr>\n",
       "      <th>4</th>\n",
       "      <td>Paid a quick visit to Nice yesterday from Heat...</td>\n",
       "      <td>paid a quick visit to nice yesterday from heat...</td>\n",
       "    </tr>\n",
       "  </tbody>\n",
       "</table>\n",
       "</div>"
      ],
      "text/plain": [
       "                                             reviews  \\\n",
       "0  Top Ten REASONS to not use British Airways To ...   \n",
       "1  Easy check in on the way to Heathrow. The flig...   \n",
       "2  Online check in worked fine. Quick security ch...   \n",
       "3  . The BA first lounge at Terminal 5 was a  zoo...   \n",
       "4  Paid a quick visit to Nice yesterday from Heat...   \n",
       "\n",
       "                                   reviews_processed  \n",
       "0  top ten reasons to not use british airways to ...  \n",
       "1  easy check in on the way to heathrow the fligh...  \n",
       "2  online check in worked fine quick security che...  \n",
       "3   the ba first lounge at terminal 5 was a zoo a...  \n",
       "4  paid a quick visit to nice yesterday from heat...  "
      ]
     },
     "execution_count": 33,
     "metadata": {},
     "output_type": "execute_result"
    }
   ],
   "source": [
    "df.head()"
   ]
  },
  {
   "cell_type": "code",
   "execution_count": null,
   "metadata": {},
   "outputs": [],
   "source": [
    "# # Remove the columns\n",
    "# papers = papers.drop(columns=['id', 'event_type', 'pdf_name'], axis=1).sample(100)\n",
    "# # Print out the first rows of papers\n",
    "# papers.head()"
   ]
  },
  {
   "cell_type": "code",
   "execution_count": null,
   "metadata": {},
   "outputs": [],
   "source": [
    " pip install wordcloud"
   ]
  },
  {
   "cell_type": "code",
   "execution_count": null,
   "metadata": {},
   "outputs": [],
   "source": [
    "pip install --upgrade pillow"
   ]
  },
  {
   "cell_type": "code",
   "execution_count": 35,
   "metadata": {},
   "outputs": [
    {
     "data": {
      "image/png": "[encoded data removed]",
      "text/plain": [
       "<PIL.Image.Image image mode=RGB size=400x200>"
      ]
     },
     "execution_count": 35,
     "metadata": {},
     "output_type": "execute_result"
    }
   ],
   "source": [
    "#data exploratory\n",
    "#[3]\n",
    "# Import the wordcloud library\n",
    "#from wordcloud import WordCloud\n",
    "import re  \n",
    "import matplotlib.pyplot as plt  \n",
    "from wordcloud import WordCloud, STOPWORDS \n",
    "# Join the different processed titles together.\n",
    "long_string = ','.join(list(df['reviews_processed'].values))\n",
    "# Create a WordCloud object\n",
    "wordcloud = WordCloud(background_color=\"white\", max_words=5000, contour_width=3, contour_color='steelblue')\n",
    "# Generate a word cloud\n",
    "wordcloud.generate(long_string)\n",
    "# Visualize the word cloud\n",
    "wordcloud.to_image()"
   ]
  },
  {
   "cell_type": "markdown",
   "metadata": {},
   "source": [
    "the words 'flight' ,'london' , 'seat' , 'service' ,'time' are the most frequent words in the sentences "
   ]
  },
  {
   "cell_type": "code",
   "execution_count": null,
   "metadata": {},
   "outputs": [],
   "source": []
  },
  {
   "cell_type": "code",
   "execution_count": 36,
   "metadata": {},
   "outputs": [
    {
     "data": {
      "text/plain": [
       "0      top ten reasons to not use british airways to ...\n",
       "1      easy check in on the way to heathrow the fligh...\n",
       "2      online check in worked fine quick security che...\n",
       "3       the ba first lounge at terminal 5 was a zoo a...\n",
       "4      paid a quick visit to nice yesterday from heat...\n",
       "                             ...                        \n",
       "995    aberdeen to boston via london heathrow i found...\n",
       "996    london to hamburg baggage selfcheckin was diab...\n",
       "997    flew london heathrow to hong kong with british...\n",
       "998    flew to istanbul with british airways on 5th j...\n",
       "999    munich to london heathrow with british airways...\n",
       "Name: reviews_processed, Length: 1000, dtype: object"
      ]
     },
     "execution_count": 36,
     "metadata": {},
     "output_type": "execute_result"
    }
   ],
   "source": [
    "df['reviews_processed']"
   ]
  },
  {
   "cell_type": "code",
   "execution_count": 37,
   "metadata": {},
   "outputs": [
    {
     "name": "stdout",
     "output_type": "stream",
     "text": [
      "Requirement already satisfied: textblob in c:\\users\\eng_m\\anaconda3\\lib\\site-packages (0.17.1)\n",
      "Requirement already satisfied: nltk>=3.1 in c:\\users\\eng_m\\anaconda3\\lib\\site-packages (from textblob) (3.6.1)\n",
      "Requirement already satisfied: tqdm in c:\\users\\eng_m\\anaconda3\\lib\\site-packages (from nltk>=3.1->textblob) (4.59.0)\n",
      "Requirement already satisfied: click in c:\\users\\eng_m\\anaconda3\\lib\\site-packages (from nltk>=3.1->textblob) (7.1.2)\n",
      "Requirement already satisfied: joblib in c:\\users\\eng_m\\anaconda3\\lib\\site-packages (from nltk>=3.1->textblob) (1.0.1)\n",
      "Requirement already satisfied: regex in c:\\users\\eng_m\\anaconda3\\lib\\site-packages (from nltk>=3.1->textblob) (2021.4.4)\n",
      "Note: you may need to restart the kernel to use updated packages.\n"
     ]
    }
   ],
   "source": [
    "pip install -U textblob"
   ]
  },
  {
   "cell_type": "code",
   "execution_count": 38,
   "metadata": {},
   "outputs": [],
   "source": [
    "from textblob import TextBlob"
   ]
  },
  {
   "cell_type": "code",
   "execution_count": 39,
   "metadata": {},
   "outputs": [
    {
     "name": "stdout",
     "output_type": "stream",
     "text": [
      "Polarity of Text 1 is 0.09666666666666668\n",
      "Subjectivity of Text 1 is 0.3066666666666667\n"
     ]
    }
   ],
   "source": [
    "#[5]\n",
    "# text_1 = \"The movie was so awesome.\"\n",
    "# text_2 = \"The food here tastes terrible.\"\n",
    "\n",
    "#Determining the Polarity \n",
    "p_1 = TextBlob(df['reviews_processed'][1]).sentiment.polarity\n",
    "#p_2 = TextBlob(text_2).sentiment.polarity\n",
    "\n",
    "#Determining the Subjectivity\n",
    "s_1 = TextBlob(df['reviews_processed'][1]).sentiment.subjectivity\n",
    "#s_2 = TextBlob(text_2).sentiment.subjectivity\n",
    "\n",
    "print(\"Polarity of Text 1 is\", p_1)\n",
    "#print(\"Polarity of Text 2 is\", p_2)\n",
    "print(\"Subjectivity of Text 1 is\", s_1)\n",
    "#print(\"Subjectivity of Text 2 is\", s_2)"
   ]
  },
  {
   "cell_type": "code",
   "execution_count": 40,
   "metadata": {},
   "outputs": [],
   "source": [
    "df[['polarity', 'subjectivity']] = df['reviews_processed'].apply(lambda reviews_processed: pd.Series(TextBlob(reviews_processed).sentiment))\n"
   ]
  },
  {
   "cell_type": "code",
   "execution_count": 41,
   "metadata": {},
   "outputs": [
    {
     "data": {
      "text/html": [
       "<div>\n",
       "<style scoped>\n",
       "    .dataframe tbody tr th:only-of-type {\n",
       "        vertical-align: middle;\n",
       "    }\n",
       "\n",
       "    .dataframe tbody tr th {\n",
       "        vertical-align: top;\n",
       "    }\n",
       "\n",
       "    .dataframe thead th {\n",
       "        text-align: right;\n",
       "    }\n",
       "</style>\n",
       "<table border=\"1\" class=\"dataframe\">\n",
       "  <thead>\n",
       "    <tr style=\"text-align: right;\">\n",
       "      <th></th>\n",
       "      <th>reviews</th>\n",
       "      <th>reviews_processed</th>\n",
       "      <th>polarity</th>\n",
       "      <th>subjectivity</th>\n",
       "    </tr>\n",
       "  </thead>\n",
       "  <tbody>\n",
       "    <tr>\n",
       "      <th>0</th>\n",
       "      <td>Top Ten REASONS to not use British Airways To ...</td>\n",
       "      <td>top ten reasons to not use british airways to ...</td>\n",
       "      <td>0.047209</td>\n",
       "      <td>0.533032</td>\n",
       "    </tr>\n",
       "    <tr>\n",
       "      <th>1</th>\n",
       "      <td>Easy check in on the way to Heathrow. The flig...</td>\n",
       "      <td>easy check in on the way to heathrow the fligh...</td>\n",
       "      <td>0.096667</td>\n",
       "      <td>0.306667</td>\n",
       "    </tr>\n",
       "    <tr>\n",
       "      <th>2</th>\n",
       "      <td>Online check in worked fine. Quick security ch...</td>\n",
       "      <td>online check in worked fine quick security che...</td>\n",
       "      <td>0.411111</td>\n",
       "      <td>0.616667</td>\n",
       "    </tr>\n",
       "    <tr>\n",
       "      <th>3</th>\n",
       "      <td>. The BA first lounge at Terminal 5 was a  zoo...</td>\n",
       "      <td>the ba first lounge at terminal 5 was a zoo a...</td>\n",
       "      <td>-0.089712</td>\n",
       "      <td>0.499853</td>\n",
       "    </tr>\n",
       "    <tr>\n",
       "      <th>4</th>\n",
       "      <td>Paid a quick visit to Nice yesterday from Heat...</td>\n",
       "      <td>paid a quick visit to nice yesterday from heat...</td>\n",
       "      <td>0.209470</td>\n",
       "      <td>0.450985</td>\n",
       "    </tr>\n",
       "    <tr>\n",
       "      <th>...</th>\n",
       "      <td>...</td>\n",
       "      <td>...</td>\n",
       "      <td>...</td>\n",
       "      <td>...</td>\n",
       "    </tr>\n",
       "    <tr>\n",
       "      <th>995</th>\n",
       "      <td>Aberdeen to Boston via London Heathrow. I foun...</td>\n",
       "      <td>aberdeen to boston via london heathrow i found...</td>\n",
       "      <td>0.040000</td>\n",
       "      <td>0.365000</td>\n",
       "    </tr>\n",
       "    <tr>\n",
       "      <th>996</th>\n",
       "      <td>London to Hamburg. Baggage self-check-in was d...</td>\n",
       "      <td>london to hamburg baggage selfcheckin was diab...</td>\n",
       "      <td>0.161364</td>\n",
       "      <td>0.504545</td>\n",
       "    </tr>\n",
       "    <tr>\n",
       "      <th>997</th>\n",
       "      <td>Flew London Heathrow to Hong Kong with British...</td>\n",
       "      <td>flew london heathrow to hong kong with british...</td>\n",
       "      <td>-0.013095</td>\n",
       "      <td>0.534524</td>\n",
       "    </tr>\n",
       "    <tr>\n",
       "      <th>998</th>\n",
       "      <td>Flew to Istanbul with British Airways on 5th J...</td>\n",
       "      <td>flew to istanbul with british airways on 5th j...</td>\n",
       "      <td>0.038021</td>\n",
       "      <td>0.286979</td>\n",
       "    </tr>\n",
       "    <tr>\n",
       "      <th>999</th>\n",
       "      <td>Munich to London Heathrow with British Airways...</td>\n",
       "      <td>munich to london heathrow with british airways...</td>\n",
       "      <td>0.212024</td>\n",
       "      <td>0.476310</td>\n",
       "    </tr>\n",
       "  </tbody>\n",
       "</table>\n",
       "<p>1000 rows × 4 columns</p>\n",
       "</div>"
      ],
      "text/plain": [
       "                                               reviews  \\\n",
       "0    Top Ten REASONS to not use British Airways To ...   \n",
       "1    Easy check in on the way to Heathrow. The flig...   \n",
       "2    Online check in worked fine. Quick security ch...   \n",
       "3    . The BA first lounge at Terminal 5 was a  zoo...   \n",
       "4    Paid a quick visit to Nice yesterday from Heat...   \n",
       "..                                                 ...   \n",
       "995  Aberdeen to Boston via London Heathrow. I foun...   \n",
       "996  London to Hamburg. Baggage self-check-in was d...   \n",
       "997  Flew London Heathrow to Hong Kong with British...   \n",
       "998  Flew to Istanbul with British Airways on 5th J...   \n",
       "999  Munich to London Heathrow with British Airways...   \n",
       "\n",
       "                                     reviews_processed  polarity  subjectivity  \n",
       "0    top ten reasons to not use british airways to ...  0.047209      0.533032  \n",
       "1    easy check in on the way to heathrow the fligh...  0.096667      0.306667  \n",
       "2    online check in worked fine quick security che...  0.411111      0.616667  \n",
       "3     the ba first lounge at terminal 5 was a zoo a... -0.089712      0.499853  \n",
       "4    paid a quick visit to nice yesterday from heat...  0.209470      0.450985  \n",
       "..                                                 ...       ...           ...  \n",
       "995  aberdeen to boston via london heathrow i found...  0.040000      0.365000  \n",
       "996  london to hamburg baggage selfcheckin was diab...  0.161364      0.504545  \n",
       "997  flew london heathrow to hong kong with british... -0.013095      0.534524  \n",
       "998  flew to istanbul with british airways on 5th j...  0.038021      0.286979  \n",
       "999  munich to london heathrow with british airways...  0.212024      0.476310  \n",
       "\n",
       "[1000 rows x 4 columns]"
      ]
     },
     "execution_count": 41,
     "metadata": {},
     "output_type": "execute_result"
    }
   ],
   "source": [
    "df"
   ]
  },
  {
   "cell_type": "code",
   "execution_count": 42,
   "metadata": {},
   "outputs": [
    {
     "data": {
      "text/html": [
       "<div>\n",
       "<style scoped>\n",
       "    .dataframe tbody tr th:only-of-type {\n",
       "        vertical-align: middle;\n",
       "    }\n",
       "\n",
       "    .dataframe tbody tr th {\n",
       "        vertical-align: top;\n",
       "    }\n",
       "\n",
       "    .dataframe thead th {\n",
       "        text-align: right;\n",
       "    }\n",
       "</style>\n",
       "<table border=\"1\" class=\"dataframe\">\n",
       "  <thead>\n",
       "    <tr style=\"text-align: right;\">\n",
       "      <th></th>\n",
       "      <th>polarity</th>\n",
       "      <th>subjectivity</th>\n",
       "    </tr>\n",
       "  </thead>\n",
       "  <tbody>\n",
       "    <tr>\n",
       "      <th>count</th>\n",
       "      <td>1000.000000</td>\n",
       "      <td>1000.000000</td>\n",
       "    </tr>\n",
       "    <tr>\n",
       "      <th>mean</th>\n",
       "      <td>0.079054</td>\n",
       "      <td>0.490809</td>\n",
       "    </tr>\n",
       "    <tr>\n",
       "      <th>std</th>\n",
       "      <td>0.198826</td>\n",
       "      <td>0.127314</td>\n",
       "    </tr>\n",
       "    <tr>\n",
       "      <th>min</th>\n",
       "      <td>-0.766667</td>\n",
       "      <td>0.000000</td>\n",
       "    </tr>\n",
       "    <tr>\n",
       "      <th>25%</th>\n",
       "      <td>-0.039676</td>\n",
       "      <td>0.416258</td>\n",
       "    </tr>\n",
       "    <tr>\n",
       "      <th>50%</th>\n",
       "      <td>0.067045</td>\n",
       "      <td>0.490427</td>\n",
       "    </tr>\n",
       "    <tr>\n",
       "      <th>75%</th>\n",
       "      <td>0.196765</td>\n",
       "      <td>0.565606</td>\n",
       "    </tr>\n",
       "    <tr>\n",
       "      <th>max</th>\n",
       "      <td>0.715000</td>\n",
       "      <td>0.950000</td>\n",
       "    </tr>\n",
       "  </tbody>\n",
       "</table>\n",
       "</div>"
      ],
      "text/plain": [
       "          polarity  subjectivity\n",
       "count  1000.000000   1000.000000\n",
       "mean      0.079054      0.490809\n",
       "std       0.198826      0.127314\n",
       "min      -0.766667      0.000000\n",
       "25%      -0.039676      0.416258\n",
       "50%       0.067045      0.490427\n",
       "75%       0.196765      0.565606\n",
       "max       0.715000      0.950000"
      ]
     },
     "execution_count": 42,
     "metadata": {},
     "output_type": "execute_result"
    }
   ],
   "source": [
    "df.describe()"
   ]
  },
  {
   "cell_type": "code",
   "execution_count": 43,
   "metadata": {},
   "outputs": [
    {
     "data": {
      "text/plain": [
       "<AxesSubplot:ylabel='Frequency'>"
      ]
     },
     "execution_count": 43,
     "metadata": {},
     "output_type": "execute_result"
    },
    {
     "data": {
      "image/png": "[encoded data removed]",
      "text/plain": [
       "<Figure size 432x288 with 1 Axes>"
      ]
     },
     "metadata": {
      "needs_background": "light"
     },
     "output_type": "display_data"
    }
   ],
   "source": [
    "df.polarity.plot(kind='hist')"
   ]
  },
  {
   "cell_type": "code",
   "execution_count": 44,
   "metadata": {
    "scrolled": true
   },
   "outputs": [
    {
     "data": {
      "text/plain": [
       "<AxesSubplot:ylabel='Frequency'>"
      ]
     },
     "execution_count": 44,
     "metadata": {},
     "output_type": "execute_result"
    },
    {
     "data": {
      "image/png": "[encoded data removed]",
      "text/plain": [
       "<Figure size 432x288 with 1 Axes>"
      ]
     },
     "metadata": {
      "needs_background": "light"
     },
     "output_type": "display_data"
    }
   ],
   "source": [
    "df.subjectivity.plot(kind='hist')"
   ]
  },
  {
   "cell_type": "code",
   "execution_count": 45,
   "metadata": {},
   "outputs": [],
   "source": [
    "u=df.polarity.max()\n"
   ]
  },
  {
   "cell_type": "code",
   "execution_count": 46,
   "metadata": {},
   "outputs": [
    {
     "data": {
      "text/html": [
       "<div>\n",
       "<style scoped>\n",
       "    .dataframe tbody tr th:only-of-type {\n",
       "        vertical-align: middle;\n",
       "    }\n",
       "\n",
       "    .dataframe tbody tr th {\n",
       "        vertical-align: top;\n",
       "    }\n",
       "\n",
       "    .dataframe thead th {\n",
       "        text-align: right;\n",
       "    }\n",
       "</style>\n",
       "<table border=\"1\" class=\"dataframe\">\n",
       "  <thead>\n",
       "    <tr style=\"text-align: right;\">\n",
       "      <th></th>\n",
       "      <th>reviews</th>\n",
       "      <th>reviews_processed</th>\n",
       "      <th>polarity</th>\n",
       "      <th>subjectivity</th>\n",
       "    </tr>\n",
       "  </thead>\n",
       "  <tbody>\n",
       "    <tr>\n",
       "      <th>555</th>\n",
       "      <td>Gatwick to St Lucia. Great service on this fli...</td>\n",
       "      <td>gatwick to st lucia great service on this flig...</td>\n",
       "      <td>0.715</td>\n",
       "      <td>0.69</td>\n",
       "    </tr>\n",
       "  </tbody>\n",
       "</table>\n",
       "</div>"
      ],
      "text/plain": [
       "                                               reviews  \\\n",
       "555  Gatwick to St Lucia. Great service on this fli...   \n",
       "\n",
       "                                     reviews_processed  polarity  subjectivity  \n",
       "555  gatwick to st lucia great service on this flig...     0.715          0.69  "
      ]
     },
     "execution_count": 46,
     "metadata": {},
     "output_type": "execute_result"
    }
   ],
   "source": [
    "df.loc[df['polarity'] == u]"
   ]
  },
  {
   "cell_type": "code",
   "execution_count": 47,
   "metadata": {},
   "outputs": [],
   "source": [
    "\n",
    "import matplotlib.pyplot as plt\n",
    "import seaborn as sns\n",
    "from matplotlib.offsetbox import AnchoredText\n",
    "%matplotlib inline\n"
   ]
  },
  {
   "cell_type": "code",
   "execution_count": 48,
   "metadata": {},
   "outputs": [
    {
     "data": {
      "image/png": "[encoded data removed]",
      "text/plain": [
       "<Figure size 720x720 with 9 Axes>"
      ]
     },
     "metadata": {
      "needs_background": "light"
     },
     "output_type": "display_data"
    }
   ],
   "source": [
    "# reference [6]:\n",
    "df.plot(kind='density', subplots=True, layout=(3,3), sharex=False,figsize=(10,10))\n",
    "plt.show()"
   ]
  },
  {
   "cell_type": "code",
   "execution_count": 49,
   "metadata": {},
   "outputs": [
    {
     "data": {
      "image/png": "[encoded data removed]",
      "text/plain": [
       "<Figure size 720x720 with 9 Axes>"
      ]
     },
     "metadata": {
      "needs_background": "light"
     },
     "output_type": "display_data"
    }
   ],
   "source": [
    "df.plot(kind='box', subplots=True, layout=(3,3), sharex=False, sharey=False,figsize=(10,10))\n",
    "plt.show()"
   ]
  },
  {
   "cell_type": "code",
   "execution_count": null,
   "metadata": {},
   "outputs": [],
   "source": [
    "df.info()"
   ]
  },
  {
   "cell_type": "code",
   "execution_count": 50,
   "metadata": {},
   "outputs": [
    {
     "data": {
      "text/html": [
       "<div>\n",
       "<style scoped>\n",
       "    .dataframe tbody tr th:only-of-type {\n",
       "        vertical-align: middle;\n",
       "    }\n",
       "\n",
       "    .dataframe tbody tr th {\n",
       "        vertical-align: top;\n",
       "    }\n",
       "\n",
       "    .dataframe thead th {\n",
       "        text-align: right;\n",
       "    }\n",
       "</style>\n",
       "<table border=\"1\" class=\"dataframe\">\n",
       "  <thead>\n",
       "    <tr style=\"text-align: right;\">\n",
       "      <th></th>\n",
       "      <th>reviews</th>\n",
       "      <th>reviews_processed</th>\n",
       "      <th>polarity</th>\n",
       "      <th>subjectivity</th>\n",
       "    </tr>\n",
       "  </thead>\n",
       "  <tbody>\n",
       "    <tr>\n",
       "      <th>0</th>\n",
       "      <td>Top Ten REASONS to not use British Airways To ...</td>\n",
       "      <td>top ten reasons to not use british airways to ...</td>\n",
       "      <td>0.047209</td>\n",
       "      <td>0.533032</td>\n",
       "    </tr>\n",
       "    <tr>\n",
       "      <th>1</th>\n",
       "      <td>Easy check in on the way to Heathrow. The flig...</td>\n",
       "      <td>easy check in on the way to heathrow the fligh...</td>\n",
       "      <td>0.096667</td>\n",
       "      <td>0.306667</td>\n",
       "    </tr>\n",
       "    <tr>\n",
       "      <th>2</th>\n",
       "      <td>Online check in worked fine. Quick security ch...</td>\n",
       "      <td>online check in worked fine quick security che...</td>\n",
       "      <td>0.411111</td>\n",
       "      <td>0.616667</td>\n",
       "    </tr>\n",
       "    <tr>\n",
       "      <th>3</th>\n",
       "      <td>. The BA first lounge at Terminal 5 was a  zoo...</td>\n",
       "      <td>the ba first lounge at terminal 5 was a zoo a...</td>\n",
       "      <td>-0.089712</td>\n",
       "      <td>0.499853</td>\n",
       "    </tr>\n",
       "    <tr>\n",
       "      <th>4</th>\n",
       "      <td>Paid a quick visit to Nice yesterday from Heat...</td>\n",
       "      <td>paid a quick visit to nice yesterday from heat...</td>\n",
       "      <td>0.209470</td>\n",
       "      <td>0.450985</td>\n",
       "    </tr>\n",
       "    <tr>\n",
       "      <th>...</th>\n",
       "      <td>...</td>\n",
       "      <td>...</td>\n",
       "      <td>...</td>\n",
       "      <td>...</td>\n",
       "    </tr>\n",
       "    <tr>\n",
       "      <th>995</th>\n",
       "      <td>Aberdeen to Boston via London Heathrow. I foun...</td>\n",
       "      <td>aberdeen to boston via london heathrow i found...</td>\n",
       "      <td>0.040000</td>\n",
       "      <td>0.365000</td>\n",
       "    </tr>\n",
       "    <tr>\n",
       "      <th>996</th>\n",
       "      <td>London to Hamburg. Baggage self-check-in was d...</td>\n",
       "      <td>london to hamburg baggage selfcheckin was diab...</td>\n",
       "      <td>0.161364</td>\n",
       "      <td>0.504545</td>\n",
       "    </tr>\n",
       "    <tr>\n",
       "      <th>997</th>\n",
       "      <td>Flew London Heathrow to Hong Kong with British...</td>\n",
       "      <td>flew london heathrow to hong kong with british...</td>\n",
       "      <td>-0.013095</td>\n",
       "      <td>0.534524</td>\n",
       "    </tr>\n",
       "    <tr>\n",
       "      <th>998</th>\n",
       "      <td>Flew to Istanbul with British Airways on 5th J...</td>\n",
       "      <td>flew to istanbul with british airways on 5th j...</td>\n",
       "      <td>0.038021</td>\n",
       "      <td>0.286979</td>\n",
       "    </tr>\n",
       "    <tr>\n",
       "      <th>999</th>\n",
       "      <td>Munich to London Heathrow with British Airways...</td>\n",
       "      <td>munich to london heathrow with british airways...</td>\n",
       "      <td>0.212024</td>\n",
       "      <td>0.476310</td>\n",
       "    </tr>\n",
       "  </tbody>\n",
       "</table>\n",
       "<p>1000 rows × 4 columns</p>\n",
       "</div>"
      ],
      "text/plain": [
       "                                               reviews  \\\n",
       "0    Top Ten REASONS to not use British Airways To ...   \n",
       "1    Easy check in on the way to Heathrow. The flig...   \n",
       "2    Online check in worked fine. Quick security ch...   \n",
       "3    . The BA first lounge at Terminal 5 was a  zoo...   \n",
       "4    Paid a quick visit to Nice yesterday from Heat...   \n",
       "..                                                 ...   \n",
       "995  Aberdeen to Boston via London Heathrow. I foun...   \n",
       "996  London to Hamburg. Baggage self-check-in was d...   \n",
       "997  Flew London Heathrow to Hong Kong with British...   \n",
       "998  Flew to Istanbul with British Airways on 5th J...   \n",
       "999  Munich to London Heathrow with British Airways...   \n",
       "\n",
       "                                     reviews_processed  polarity  subjectivity  \n",
       "0    top ten reasons to not use british airways to ...  0.047209      0.533032  \n",
       "1    easy check in on the way to heathrow the fligh...  0.096667      0.306667  \n",
       "2    online check in worked fine quick security che...  0.411111      0.616667  \n",
       "3     the ba first lounge at terminal 5 was a zoo a... -0.089712      0.499853  \n",
       "4    paid a quick visit to nice yesterday from heat...  0.209470      0.450985  \n",
       "..                                                 ...       ...           ...  \n",
       "995  aberdeen to boston via london heathrow i found...  0.040000      0.365000  \n",
       "996  london to hamburg baggage selfcheckin was diab...  0.161364      0.504545  \n",
       "997  flew london heathrow to hong kong with british... -0.013095      0.534524  \n",
       "998  flew to istanbul with british airways on 5th j...  0.038021      0.286979  \n",
       "999  munich to london heathrow with british airways...  0.212024      0.476310  \n",
       "\n",
       "[1000 rows x 4 columns]"
      ]
     },
     "execution_count": 50,
     "metadata": {},
     "output_type": "execute_result"
    }
   ],
   "source": [
    "df"
   ]
  },
  {
   "cell_type": "code",
   "execution_count": 52,
   "metadata": {},
   "outputs": [],
   "source": [
    "df.drop(['reviews'],axis=1,inplace=True)"
   ]
  },
  {
   "cell_type": "code",
   "execution_count": 54,
   "metadata": {},
   "outputs": [
    {
     "data": {
      "text/html": [
       "<div>\n",
       "<style scoped>\n",
       "    .dataframe tbody tr th:only-of-type {\n",
       "        vertical-align: middle;\n",
       "    }\n",
       "\n",
       "    .dataframe tbody tr th {\n",
       "        vertical-align: top;\n",
       "    }\n",
       "\n",
       "    .dataframe thead th {\n",
       "        text-align: right;\n",
       "    }\n",
       "</style>\n",
       "<table border=\"1\" class=\"dataframe\">\n",
       "  <thead>\n",
       "    <tr style=\"text-align: right;\">\n",
       "      <th></th>\n",
       "      <th>reviews_processed</th>\n",
       "      <th>polarity</th>\n",
       "      <th>subjectivity</th>\n",
       "    </tr>\n",
       "  </thead>\n",
       "  <tbody>\n",
       "    <tr>\n",
       "      <th>0</th>\n",
       "      <td>top ten reasons to not use british airways to ...</td>\n",
       "      <td>0.047209</td>\n",
       "      <td>0.533032</td>\n",
       "    </tr>\n",
       "    <tr>\n",
       "      <th>1</th>\n",
       "      <td>easy check in on the way to heathrow the fligh...</td>\n",
       "      <td>0.096667</td>\n",
       "      <td>0.306667</td>\n",
       "    </tr>\n",
       "    <tr>\n",
       "      <th>2</th>\n",
       "      <td>online check in worked fine quick security che...</td>\n",
       "      <td>0.411111</td>\n",
       "      <td>0.616667</td>\n",
       "    </tr>\n",
       "    <tr>\n",
       "      <th>3</th>\n",
       "      <td>the ba first lounge at terminal 5 was a zoo a...</td>\n",
       "      <td>-0.089712</td>\n",
       "      <td>0.499853</td>\n",
       "    </tr>\n",
       "    <tr>\n",
       "      <th>4</th>\n",
       "      <td>paid a quick visit to nice yesterday from heat...</td>\n",
       "      <td>0.209470</td>\n",
       "      <td>0.450985</td>\n",
       "    </tr>\n",
       "    <tr>\n",
       "      <th>5</th>\n",
       "      <td>words fail to describe this last awful flight ...</td>\n",
       "      <td>-0.224058</td>\n",
       "      <td>0.563284</td>\n",
       "    </tr>\n",
       "    <tr>\n",
       "      <th>6</th>\n",
       "      <td>absolutely terrible experience the app would n...</td>\n",
       "      <td>-0.233929</td>\n",
       "      <td>0.476190</td>\n",
       "    </tr>\n",
       "    <tr>\n",
       "      <th>7</th>\n",
       "      <td>ba overbook every flight to maximise their inc...</td>\n",
       "      <td>-0.270833</td>\n",
       "      <td>0.540278</td>\n",
       "    </tr>\n",
       "    <tr>\n",
       "      <th>8</th>\n",
       "      <td>the flights were all on time except belfast fr...</td>\n",
       "      <td>0.018750</td>\n",
       "      <td>0.193750</td>\n",
       "    </tr>\n",
       "    <tr>\n",
       "      <th>9</th>\n",
       "      <td>only the second time flying ba as first time w...</td>\n",
       "      <td>0.035823</td>\n",
       "      <td>0.457403</td>\n",
       "    </tr>\n",
       "  </tbody>\n",
       "</table>\n",
       "</div>"
      ],
      "text/plain": [
       "                                   reviews_processed  polarity  subjectivity\n",
       "0  top ten reasons to not use british airways to ...  0.047209      0.533032\n",
       "1  easy check in on the way to heathrow the fligh...  0.096667      0.306667\n",
       "2  online check in worked fine quick security che...  0.411111      0.616667\n",
       "3   the ba first lounge at terminal 5 was a zoo a... -0.089712      0.499853\n",
       "4  paid a quick visit to nice yesterday from heat...  0.209470      0.450985\n",
       "5  words fail to describe this last awful flight ... -0.224058      0.563284\n",
       "6  absolutely terrible experience the app would n... -0.233929      0.476190\n",
       "7  ba overbook every flight to maximise their inc... -0.270833      0.540278\n",
       "8  the flights were all on time except belfast fr...  0.018750      0.193750\n",
       "9  only the second time flying ba as first time w...  0.035823      0.457403"
      ]
     },
     "execution_count": 54,
     "metadata": {},
     "output_type": "execute_result"
    }
   ],
   "source": [
    "df.head(10)"
   ]
  },
  {
   "cell_type": "code",
   "execution_count": 55,
   "metadata": {},
   "outputs": [
    {
     "data": {
      "text/html": [
       "<div>\n",
       "<style scoped>\n",
       "    .dataframe tbody tr th:only-of-type {\n",
       "        vertical-align: middle;\n",
       "    }\n",
       "\n",
       "    .dataframe tbody tr th {\n",
       "        vertical-align: top;\n",
       "    }\n",
       "\n",
       "    .dataframe thead th {\n",
       "        text-align: right;\n",
       "    }\n",
       "</style>\n",
       "<table border=\"1\" class=\"dataframe\">\n",
       "  <thead>\n",
       "    <tr style=\"text-align: right;\">\n",
       "      <th></th>\n",
       "      <th>polarity</th>\n",
       "      <th>subjectivity</th>\n",
       "    </tr>\n",
       "  </thead>\n",
       "  <tbody>\n",
       "    <tr>\n",
       "      <th>count</th>\n",
       "      <td>1000.000000</td>\n",
       "      <td>1000.000000</td>\n",
       "    </tr>\n",
       "    <tr>\n",
       "      <th>mean</th>\n",
       "      <td>0.079054</td>\n",
       "      <td>0.490809</td>\n",
       "    </tr>\n",
       "    <tr>\n",
       "      <th>std</th>\n",
       "      <td>0.198826</td>\n",
       "      <td>0.127314</td>\n",
       "    </tr>\n",
       "    <tr>\n",
       "      <th>min</th>\n",
       "      <td>-0.766667</td>\n",
       "      <td>0.000000</td>\n",
       "    </tr>\n",
       "    <tr>\n",
       "      <th>25%</th>\n",
       "      <td>-0.039676</td>\n",
       "      <td>0.416258</td>\n",
       "    </tr>\n",
       "    <tr>\n",
       "      <th>50%</th>\n",
       "      <td>0.067045</td>\n",
       "      <td>0.490427</td>\n",
       "    </tr>\n",
       "    <tr>\n",
       "      <th>75%</th>\n",
       "      <td>0.196765</td>\n",
       "      <td>0.565606</td>\n",
       "    </tr>\n",
       "    <tr>\n",
       "      <th>max</th>\n",
       "      <td>0.715000</td>\n",
       "      <td>0.950000</td>\n",
       "    </tr>\n",
       "  </tbody>\n",
       "</table>\n",
       "</div>"
      ],
      "text/plain": [
       "          polarity  subjectivity\n",
       "count  1000.000000   1000.000000\n",
       "mean      0.079054      0.490809\n",
       "std       0.198826      0.127314\n",
       "min      -0.766667      0.000000\n",
       "25%      -0.039676      0.416258\n",
       "50%       0.067045      0.490427\n",
       "75%       0.196765      0.565606\n",
       "max       0.715000      0.950000"
      ]
     },
     "execution_count": 55,
     "metadata": {},
     "output_type": "execute_result"
    }
   ],
   "source": [
    "df.describe()"
   ]
  },
  {
   "cell_type": "markdown",
   "metadata": {},
   "source": [
    "the averagre subjectivity for the reviews is almost 0.5 and the reviews are 0.08 in average which means it tends to be negative "
   ]
  },
  {
   "cell_type": "code",
   "execution_count": null,
   "metadata": {},
   "outputs": [],
   "source": []
  },
  {
   "cell_type": "code",
   "execution_count": null,
   "metadata": {},
   "outputs": [],
   "source": []
  },
  {
   "cell_type": "code",
   "execution_count": null,
   "metadata": {},
   "outputs": [],
   "source": []
  },
  {
   "cell_type": "markdown",
   "metadata": {},
   "source": [
    "ref:\n",
    "\n",
    "[1] https://stackoverflow.com/questions/45306988/column-of-lists-convert-list-to-string-as-a-new-column\n",
    "\n",
    "[2] https://stackoverflow.com/questions/40950310/strip-trim-all-strings-of-a-dataframe\n",
    "\n",
    "[3] https://towardsdatascience.com/end-to-end-topic-modeling-in-python-latent-dirichlet-allocation-lda-35ce4ed6b3e0\n",
    "\n",
    "[4] https://blog.csdn.net/Birdy_cee/article/details/130693238\n",
    "\n",
    "[5] https://www.analyticsvidhya.com/blog/2022/07/sentiment-analysis-using-python/\n",
    "\n",
    "[6] S.Sotiriadis Class 7: Introduction to Data Modelling [PowerPoint Slides].Available: https://moodle.bbk.ac.uk/mod/folder/view.php?id=1881640\n",
    "\n",
    "\n"
   ]
  },
  {
   "cell_type": "code",
   "execution_count": null,
   "metadata": {},
   "outputs": [],
   "source": []
  }
 ],
 "metadata": {
  "kernelspec": {
   "display_name": "Python 3",
   "language": "python",
   "name": "python3"
  },
  "language_info": {
   "codemirror_mode": {
    "name": "ipython",
    "version": 3
   },
   "file_extension": ".py",
   "mimetype": "text/x-python",
   "name": "python",
   "nbconvert_exporter": "python",
   "pygments_lexer": "ipython3",
   "version": "3.8.8"
  },
  "vscode": {
   "interpreter": {
    "hash": "4f7924c4c56b083e0e50eadfe7ef592a7a8ef70df33a0047f82280e6be1afe15"
   }
  }
 },
 "nbformat": 4,
 "nbformat_minor": 2
}
