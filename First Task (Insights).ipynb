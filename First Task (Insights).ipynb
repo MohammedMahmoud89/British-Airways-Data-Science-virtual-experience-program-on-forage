{
 "cells": [
  {
   "cell_type": "markdown",
   "metadata": {},
   "source": [
    "# Task 1\n",
    "\n",
    "---\n",
    "\n",
    "## Web scraping and analysis\n",
    "\n",
    "This Jupyter notebook includes some code to get you started with web scraping. We will use a package called `BeautifulSoup` to collect the data from the web. Once you've collected your data and saved it into a local `.csv` file you should start with your analysis.\n",
    "\n",
    "### Scraping data from Skytrax\n",
    "\n",
    "If you visit [https://www.airlinequality.com] you can see that there is a lot of data there. For this task, we are only interested in reviews related to British Airways and the Airline itself.\n",
    "\n",
    "If you navigate to this link: [https://www.airlinequality.com/airline-reviews/british-airways] you will see this data. Now, we can use `Python` and `BeautifulSoup` to collect all the links to the reviews and then to collect the text data on each of the individual review links."
   ]
  },
  {
   "cell_type": "code",
   "execution_count": 45,
   "metadata": {},
   "outputs": [],
   "source": [
    "import requests\n",
    "from bs4 import BeautifulSoup\n",
    "import pandas as pd"
   ]
  },
  {
   "cell_type": "code",
   "execution_count": 46,
   "metadata": {},
   "outputs": [
    {
     "name": "stdout",
     "output_type": "stream",
     "text": [
      "Scraping page 1\n",
      "Scraping page 1\n",
      "   ---> 100 total reviews\n",
      "Scraping page 2\n",
      "   ---> 100 total reviews\n",
      "Scraping page 2\n",
      "   ---> 200 total reviews\n",
      "Scraping page 3\n",
      "   ---> 200 total reviews\n",
      "Scraping page 3\n",
      "   ---> 300 total reviews\n",
      "Scraping page 4\n",
      "   ---> 300 total reviews\n",
      "Scraping page 4\n",
      "   ---> 400 total reviews\n",
      "Scraping page 5\n",
      "   ---> 400 total reviews\n",
      "Scraping page 5\n",
      "   ---> 500 total reviews\n",
      "Scraping page 6\n",
      "   ---> 500 total reviews\n",
      "Scraping page 6\n",
      "   ---> 600 total reviews\n",
      "Scraping page 7\n",
      "   ---> 600 total reviews\n",
      "Scraping page 7\n",
      "   ---> 700 total reviews\n",
      "Scraping page 8\n",
      "   ---> 700 total reviews\n",
      "Scraping page 8\n",
      "   ---> 800 total reviews\n",
      "Scraping page 9\n",
      "   ---> 800 total reviews\n",
      "Scraping page 9\n",
      "   ---> 900 total reviews\n",
      "Scraping page 10\n",
      "   ---> 900 total reviews\n",
      "Scraping page 10\n",
      "   ---> 1000 total reviews\n",
      "   ---> 1000 total reviews\n"
     ]
    }
   ],
   "source": [
    "base_url = \"https://www.airlinequality.com/airline-reviews/british-airways\"\n",
    "pages = 10\n",
    "page_size = 100\n",
    "\n",
    "reviews = []\n",
    "\n",
    "# for i in range(1, pages + 1):\n",
    "for i in range(1, pages + 1):\n",
    "\n",
    "    print(f\"Scraping page {i}\")\n",
    "\n",
    "    # Create URL to collect links from paginated data\n",
    "    url = f\"{base_url}/page/{i}/?sortby=post_date%3ADesc&pagesize={page_size}\"\n",
    "\n",
    "    # Collect HTML data from this page\n",
    "    response = requests.get(url)\n",
    "\n",
    "    # Parse content\n",
    "    content = response.content\n",
    "    parsed_content = BeautifulSoup(content, 'html.parser')\n",
    "    for para in parsed_content.find_all(\"div\", {\"class\": \"text_content\"}):\n",
    "        reviews.append(para.get_text())\n",
    "    \n",
    "    print(f\"   ---> {len(reviews)} total reviews\")"
   ]
  },
  {
   "cell_type": "code",
   "execution_count": 47,
   "metadata": {},
   "outputs": [
    {
     "data": {
      "text/html": [
       "<div>\n",
       "<style scoped>\n",
       "    .dataframe tbody tr th:only-of-type {\n",
       "        vertical-align: middle;\n",
       "    }\n",
       "\n",
       "    .dataframe tbody tr th {\n",
       "        vertical-align: top;\n",
       "    }\n",
       "\n",
       "    .dataframe thead th {\n",
       "        text-align: right;\n",
       "    }\n",
       "</style>\n",
       "<table border=\"1\" class=\"dataframe\">\n",
       "  <thead>\n",
       "    <tr style=\"text-align: right;\">\n",
       "      <th></th>\n",
       "      <th>reviews</th>\n",
       "    </tr>\n",
       "  </thead>\n",
       "  <tbody>\n",
       "    <tr>\n",
       "      <th>0</th>\n",
       "      <td>Not Verified |  My itinerary was supposed to b...</td>\n",
       "    </tr>\n",
       "    <tr>\n",
       "      <th>1</th>\n",
       "      <td>✅ Trip Verified |  Busy day at LHR and flight ...</td>\n",
       "    </tr>\n",
       "    <tr>\n",
       "      <th>2</th>\n",
       "      <td>✅ Trip Verified | Worst seats I have ever enco...</td>\n",
       "    </tr>\n",
       "    <tr>\n",
       "      <th>3</th>\n",
       "      <td>Not Verified | Top Ten REASONS to not use Brit...</td>\n",
       "    </tr>\n",
       "    <tr>\n",
       "      <th>4</th>\n",
       "      <td>Not Verified |  Easy check in on the way to He...</td>\n",
       "    </tr>\n",
       "  </tbody>\n",
       "</table>\n",
       "</div>"
      ],
      "text/plain": [
       "                                             reviews\n",
       "0  Not Verified |  My itinerary was supposed to b...\n",
       "1  ✅ Trip Verified |  Busy day at LHR and flight ...\n",
       "2  ✅ Trip Verified | Worst seats I have ever enco...\n",
       "3  Not Verified | Top Ten REASONS to not use Brit...\n",
       "4  Not Verified |  Easy check in on the way to He..."
      ]
     },
     "execution_count": 47,
     "metadata": {},
     "output_type": "execute_result"
    },
    {
     "data": {
      "text/html": [
       "<div>\n",
       "<style scoped>\n",
       "    .dataframe tbody tr th:only-of-type {\n",
       "        vertical-align: middle;\n",
       "    }\n",
       "\n",
       "    .dataframe tbody tr th {\n",
       "        vertical-align: top;\n",
       "    }\n",
       "\n",
       "    .dataframe thead th {\n",
       "        text-align: right;\n",
       "    }\n",
       "</style>\n",
       "<table border=\"1\" class=\"dataframe\">\n",
       "  <thead>\n",
       "    <tr style=\"text-align: right;\">\n",
       "      <th></th>\n",
       "      <th>reviews</th>\n",
       "    </tr>\n",
       "  </thead>\n",
       "  <tbody>\n",
       "    <tr>\n",
       "      <th>0</th>\n",
       "      <td>Not Verified |  My itinerary was supposed to b...</td>\n",
       "    </tr>\n",
       "    <tr>\n",
       "      <th>1</th>\n",
       "      <td>✅ Trip Verified |  Busy day at LHR and flight ...</td>\n",
       "    </tr>\n",
       "    <tr>\n",
       "      <th>2</th>\n",
       "      <td>✅ Trip Verified | Worst seats I have ever enco...</td>\n",
       "    </tr>\n",
       "    <tr>\n",
       "      <th>3</th>\n",
       "      <td>Not Verified | Top Ten REASONS to not use Brit...</td>\n",
       "    </tr>\n",
       "    <tr>\n",
       "      <th>4</th>\n",
       "      <td>Not Verified |  Easy check in on the way to He...</td>\n",
       "    </tr>\n",
       "  </tbody>\n",
       "</table>\n",
       "</div>"
      ],
      "text/plain": [
       "                                             reviews\n",
       "0  Not Verified |  My itinerary was supposed to b...\n",
       "1  ✅ Trip Verified |  Busy day at LHR and flight ...\n",
       "2  ✅ Trip Verified | Worst seats I have ever enco...\n",
       "3  Not Verified | Top Ten REASONS to not use Brit...\n",
       "4  Not Verified |  Easy check in on the way to He..."
      ]
     },
     "execution_count": 47,
     "metadata": {},
     "output_type": "execute_result"
    }
   ],
   "source": [
    "df = pd.DataFrame()\n",
    "df[\"reviews\"] = reviews\n",
    "df.head()"
   ]
  },
  {
   "cell_type": "code",
   "execution_count": 48,
   "metadata": {},
   "outputs": [],
   "source": [
    "df.to_csv(\"BA_reviews.csv\")"
   ]
  },
  {
   "cell_type": "markdown",
   "metadata": {},
   "source": [
    "Congratulations! Now you have your dataset for this task! The loops above collected 1000 reviews by iterating through the paginated pages on the website. However, if you want to collect more data, try increasing the number of pages!\n",
    "\n",
    " The next thing that you should do is clean this data to remove any unnecessary text from each of the rows. For example, \"✅ Trip Verified\" can be removed from each row if it exists, as it's not relevant to what we want to investigate."
   ]
  },
  {
   "cell_type": "code",
   "execution_count": 49,
   "metadata": {},
   "outputs": [
    {
     "data": {
      "text/html": [
       "<div>\n",
       "<style scoped>\n",
       "    .dataframe tbody tr th:only-of-type {\n",
       "        vertical-align: middle;\n",
       "    }\n",
       "\n",
       "    .dataframe tbody tr th {\n",
       "        vertical-align: top;\n",
       "    }\n",
       "\n",
       "    .dataframe thead th {\n",
       "        text-align: right;\n",
       "    }\n",
       "</style>\n",
       "<table border=\"1\" class=\"dataframe\">\n",
       "  <thead>\n",
       "    <tr style=\"text-align: right;\">\n",
       "      <th></th>\n",
       "      <th>reviews</th>\n",
       "    </tr>\n",
       "  </thead>\n",
       "  <tbody>\n",
       "    <tr>\n",
       "      <th>0</th>\n",
       "      <td>Not Verified |  My itinerary was supposed to b...</td>\n",
       "    </tr>\n",
       "    <tr>\n",
       "      <th>1</th>\n",
       "      <td>✅ Trip Verified |  Busy day at LHR and flight ...</td>\n",
       "    </tr>\n",
       "    <tr>\n",
       "      <th>2</th>\n",
       "      <td>✅ Trip Verified | Worst seats I have ever enco...</td>\n",
       "    </tr>\n",
       "    <tr>\n",
       "      <th>3</th>\n",
       "      <td>Not Verified | Top Ten REASONS to not use Brit...</td>\n",
       "    </tr>\n",
       "    <tr>\n",
       "      <th>4</th>\n",
       "      <td>Not Verified |  Easy check in on the way to He...</td>\n",
       "    </tr>\n",
       "  </tbody>\n",
       "</table>\n",
       "</div>"
      ],
      "text/plain": [
       "                                             reviews\n",
       "0  Not Verified |  My itinerary was supposed to b...\n",
       "1  ✅ Trip Verified |  Busy day at LHR and flight ...\n",
       "2  ✅ Trip Verified | Worst seats I have ever enco...\n",
       "3  Not Verified | Top Ten REASONS to not use Brit...\n",
       "4  Not Verified |  Easy check in on the way to He..."
      ]
     },
     "execution_count": 49,
     "metadata": {},
     "output_type": "execute_result"
    },
    {
     "data": {
      "text/html": [
       "<div>\n",
       "<style scoped>\n",
       "    .dataframe tbody tr th:only-of-type {\n",
       "        vertical-align: middle;\n",
       "    }\n",
       "\n",
       "    .dataframe tbody tr th {\n",
       "        vertical-align: top;\n",
       "    }\n",
       "\n",
       "    .dataframe thead th {\n",
       "        text-align: right;\n",
       "    }\n",
       "</style>\n",
       "<table border=\"1\" class=\"dataframe\">\n",
       "  <thead>\n",
       "    <tr style=\"text-align: right;\">\n",
       "      <th></th>\n",
       "      <th>reviews</th>\n",
       "    </tr>\n",
       "  </thead>\n",
       "  <tbody>\n",
       "    <tr>\n",
       "      <th>0</th>\n",
       "      <td>Not Verified |  My itinerary was supposed to b...</td>\n",
       "    </tr>\n",
       "    <tr>\n",
       "      <th>1</th>\n",
       "      <td>✅ Trip Verified |  Busy day at LHR and flight ...</td>\n",
       "    </tr>\n",
       "    <tr>\n",
       "      <th>2</th>\n",
       "      <td>✅ Trip Verified | Worst seats I have ever enco...</td>\n",
       "    </tr>\n",
       "    <tr>\n",
       "      <th>3</th>\n",
       "      <td>Not Verified | Top Ten REASONS to not use Brit...</td>\n",
       "    </tr>\n",
       "    <tr>\n",
       "      <th>4</th>\n",
       "      <td>Not Verified |  Easy check in on the way to He...</td>\n",
       "    </tr>\n",
       "  </tbody>\n",
       "</table>\n",
       "</div>"
      ],
      "text/plain": [
       "                                             reviews\n",
       "0  Not Verified |  My itinerary was supposed to b...\n",
       "1  ✅ Trip Verified |  Busy day at LHR and flight ...\n",
       "2  ✅ Trip Verified | Worst seats I have ever enco...\n",
       "3  Not Verified | Top Ten REASONS to not use Brit...\n",
       "4  Not Verified |  Easy check in on the way to He..."
      ]
     },
     "execution_count": 49,
     "metadata": {},
     "output_type": "execute_result"
    }
   ],
   "source": [
    "df.head(5)"
   ]
  },
  {
   "cell_type": "code",
   "execution_count": 50,
   "metadata": {},
   "outputs": [
    {
     "name": "stdout",
     "output_type": "stream",
     "text": [
      "<class 'pandas.core.frame.DataFrame'>\n",
      "RangeIndex: 1000 entries, 0 to 999\n",
      "Data columns (total 1 columns):\n",
      " #   Column   Non-Null Count  Dtype \n",
      "---  ------   --------------  ----- \n",
      " 0   reviews  1000 non-null   object\n",
      "dtypes: object(1)\n",
      "memory usage: 7.9+ KB\n",
      "<class 'pandas.core.frame.DataFrame'>\n",
      "RangeIndex: 1000 entries, 0 to 999\n",
      "Data columns (total 1 columns):\n",
      " #   Column   Non-Null Count  Dtype \n",
      "---  ------   --------------  ----- \n",
      " 0   reviews  1000 non-null   object\n",
      "dtypes: object(1)\n",
      "memory usage: 7.9+ KB\n"
     ]
    }
   ],
   "source": [
    "df.info()"
   ]
  },
  {
   "cell_type": "code",
   "execution_count": 51,
   "metadata": {},
   "outputs": [
    {
     "data": {
      "text/html": [
       "<div>\n",
       "<style scoped>\n",
       "    .dataframe tbody tr th:only-of-type {\n",
       "        vertical-align: middle;\n",
       "    }\n",
       "\n",
       "    .dataframe tbody tr th {\n",
       "        vertical-align: top;\n",
       "    }\n",
       "\n",
       "    .dataframe thead th {\n",
       "        text-align: right;\n",
       "    }\n",
       "</style>\n",
       "<table border=\"1\" class=\"dataframe\">\n",
       "  <thead>\n",
       "    <tr style=\"text-align: right;\">\n",
       "      <th></th>\n",
       "      <th>reviews</th>\n",
       "    </tr>\n",
       "  </thead>\n",
       "  <tbody>\n",
       "    <tr>\n",
       "      <th>count</th>\n",
       "      <td>1000</td>\n",
       "    </tr>\n",
       "    <tr>\n",
       "      <th>unique</th>\n",
       "      <td>1000</td>\n",
       "    </tr>\n",
       "    <tr>\n",
       "      <th>top</th>\n",
       "      <td>✅ Trip Verified |  Easy check in and staff mem...</td>\n",
       "    </tr>\n",
       "    <tr>\n",
       "      <th>freq</th>\n",
       "      <td>1</td>\n",
       "    </tr>\n",
       "  </tbody>\n",
       "</table>\n",
       "</div>"
      ],
      "text/plain": [
       "                                                  reviews\n",
       "count                                                1000\n",
       "unique                                               1000\n",
       "top     ✅ Trip Verified |  Easy check in and staff mem...\n",
       "freq                                                    1"
      ]
     },
     "execution_count": 51,
     "metadata": {},
     "output_type": "execute_result"
    },
    {
     "data": {
      "text/html": [
       "<div>\n",
       "<style scoped>\n",
       "    .dataframe tbody tr th:only-of-type {\n",
       "        vertical-align: middle;\n",
       "    }\n",
       "\n",
       "    .dataframe tbody tr th {\n",
       "        vertical-align: top;\n",
       "    }\n",
       "\n",
       "    .dataframe thead th {\n",
       "        text-align: right;\n",
       "    }\n",
       "</style>\n",
       "<table border=\"1\" class=\"dataframe\">\n",
       "  <thead>\n",
       "    <tr style=\"text-align: right;\">\n",
       "      <th></th>\n",
       "      <th>reviews</th>\n",
       "    </tr>\n",
       "  </thead>\n",
       "  <tbody>\n",
       "    <tr>\n",
       "      <th>count</th>\n",
       "      <td>1000</td>\n",
       "    </tr>\n",
       "    <tr>\n",
       "      <th>unique</th>\n",
       "      <td>1000</td>\n",
       "    </tr>\n",
       "    <tr>\n",
       "      <th>top</th>\n",
       "      <td>✅ Trip Verified |  Easy check in and staff mem...</td>\n",
       "    </tr>\n",
       "    <tr>\n",
       "      <th>freq</th>\n",
       "      <td>1</td>\n",
       "    </tr>\n",
       "  </tbody>\n",
       "</table>\n",
       "</div>"
      ],
      "text/plain": [
       "                                                  reviews\n",
       "count                                                1000\n",
       "unique                                               1000\n",
       "top     ✅ Trip Verified |  Easy check in and staff mem...\n",
       "freq                                                    1"
      ]
     },
     "execution_count": 51,
     "metadata": {},
     "output_type": "execute_result"
    }
   ],
   "source": [
    "df.describe()"
   ]
  },
  {
   "cell_type": "code",
   "execution_count": 52,
   "metadata": {},
   "outputs": [],
   "source": [
    "df[\"reviews\"]= df[\"reviews\"].str.split(\"|\", n = 2, expand = False)  "
   ]
  },
  {
   "cell_type": "code",
   "execution_count": 53,
   "metadata": {},
   "outputs": [
    {
     "data": {
      "text/plain": [
       "0      [Not Verified ,   My itinerary was supposed to...\n",
       "1      [✅ Trip Verified ,   Busy day at LHR and fligh...\n",
       "2      [✅ Trip Verified ,  Worst seats I have ever en...\n",
       "3      [Not Verified ,  Top Ten REASONS to not use Br...\n",
       "4      [Not Verified ,   Easy check in on the way to ...\n",
       "                             ...                        \n",
       "995    [✅ Trip Verified ,   London to Frankfurt. I ne...\n",
       "996    [✅ Trip Verified ,  Gatwick to Malaga. When bo...\n",
       "997    [✅ Trip Verified ,   Bermuda to Gatwick. Usual...\n",
       "998    [✅ Trip Verified ,   Aberdeen to Boston via Lo...\n",
       "999    [✅ Trip Verified ,   London to Hamburg. Baggag...\n",
       "Name: reviews, Length: 1000, dtype: object"
      ]
     },
     "execution_count": 53,
     "metadata": {},
     "output_type": "execute_result"
    },
    {
     "data": {
      "text/plain": [
       "0      [Not Verified ,   My itinerary was supposed to...\n",
       "1      [✅ Trip Verified ,   Busy day at LHR and fligh...\n",
       "2      [✅ Trip Verified ,  Worst seats I have ever en...\n",
       "3      [Not Verified ,  Top Ten REASONS to not use Br...\n",
       "4      [Not Verified ,   Easy check in on the way to ...\n",
       "                             ...                        \n",
       "995    [✅ Trip Verified ,   London to Frankfurt. I ne...\n",
       "996    [✅ Trip Verified ,  Gatwick to Malaga. When bo...\n",
       "997    [✅ Trip Verified ,   Bermuda to Gatwick. Usual...\n",
       "998    [✅ Trip Verified ,   Aberdeen to Boston via Lo...\n",
       "999    [✅ Trip Verified ,   London to Hamburg. Baggag...\n",
       "Name: reviews, Length: 1000, dtype: object"
      ]
     },
     "execution_count": 53,
     "metadata": {},
     "output_type": "execute_result"
    }
   ],
   "source": [
    "df['reviews']"
   ]
  },
  {
   "cell_type": "code",
   "execution_count": 54,
   "metadata": {},
   "outputs": [],
   "source": [
    "for i in df[\"reviews\"]:\n",
    "    i.remove(i[0])"
   ]
  },
  {
   "cell_type": "code",
   "execution_count": 55,
   "metadata": {},
   "outputs": [
    {
     "data": {
      "text/plain": [
       "[' Top Ten REASONS to not use British Airways To all: Be Aware and be on Notice- Travel at your own risk I have travelled for years on many different airlines, and I have to say that British Airways ranks as one of the top two most horrible airlines to fly. Don’t waste your time or money. Customer service is non-existent. Please be on notice that if you purchase a ticket from them and once, they have your money, you can kiss any customer service and or help resolving your issue goodbye. We used them to travel to Europe and it was the worst experience I have had with an airline in years. When you work hard and save your money to travel, you expect a good experience. Welp not with this company. Who I am sure, makes millions on customers per year. I understand that sometimes things happen, but this started right after we booked our flight AND THE BAD EXPERIENCE DID NOT END UNTIL WE SET FOOT BACK TO OUR HOMETOWN. Please take note: #1 - The customer service number is buried on the internet and not listed on their website. I had to google it and still got the run around when someone finally answered. Trust me, the number is a secret. #2 – When you FINALLY find a customer service number, there is a long wait and when or if someone answers, they will not resolve your issues. Instead, they pass the buck to whatever airlines that they sold your ticket to. NO ONE TAKES OWNERSHIP #4- What airlines operates 365 days a year and around the clock but doesn’t have customer service reps to help you, the customer? BRITISH AIRWAYS that’s who. #5 - They will cancel your flight without notice and not notify you, AT ALL. NO EMAIL, NO TEXT. #6- If you are not the primary on your ticket you will get no notifications or even if you are the primary, you may or may not get notifications. #7 - If you pay for seats and you pick them, it doesn’t matter, they will cancel your seats and not refund your money and then play stupid. #8 - The flight may be cheaper, but it is not once you are done paying for seats. #9- They will route to another partner airline and not notify you #10 – If you have a connecting flight, they will cancel one leg and not the other and NOT NOTIFY YOU. I will never use them again. And if this review helps one person that heeds my advice, then my job is done.']"
      ]
     },
     "execution_count": 55,
     "metadata": {},
     "output_type": "execute_result"
    },
    {
     "data": {
      "text/plain": [
       "[' Top Ten REASONS to not use British Airways To all: Be Aware and be on Notice- Travel at your own risk I have travelled for years on many different airlines, and I have to say that British Airways ranks as one of the top two most horrible airlines to fly. Don’t waste your time or money. Customer service is non-existent. Please be on notice that if you purchase a ticket from them and once, they have your money, you can kiss any customer service and or help resolving your issue goodbye. We used them to travel to Europe and it was the worst experience I have had with an airline in years. When you work hard and save your money to travel, you expect a good experience. Welp not with this company. Who I am sure, makes millions on customers per year. I understand that sometimes things happen, but this started right after we booked our flight AND THE BAD EXPERIENCE DID NOT END UNTIL WE SET FOOT BACK TO OUR HOMETOWN. Please take note: #1 - The customer service number is buried on the internet and not listed on their website. I had to google it and still got the run around when someone finally answered. Trust me, the number is a secret. #2 – When you FINALLY find a customer service number, there is a long wait and when or if someone answers, they will not resolve your issues. Instead, they pass the buck to whatever airlines that they sold your ticket to. NO ONE TAKES OWNERSHIP #4- What airlines operates 365 days a year and around the clock but doesn’t have customer service reps to help you, the customer? BRITISH AIRWAYS that’s who. #5 - They will cancel your flight without notice and not notify you, AT ALL. NO EMAIL, NO TEXT. #6- If you are not the primary on your ticket you will get no notifications or even if you are the primary, you may or may not get notifications. #7 - If you pay for seats and you pick them, it doesn’t matter, they will cancel your seats and not refund your money and then play stupid. #8 - The flight may be cheaper, but it is not once you are done paying for seats. #9- They will route to another partner airline and not notify you #10 – If you have a connecting flight, they will cancel one leg and not the other and NOT NOTIFY YOU. I will never use them again. And if this review helps one person that heeds my advice, then my job is done.']"
      ]
     },
     "execution_count": 55,
     "metadata": {},
     "output_type": "execute_result"
    }
   ],
   "source": [
    "df['reviews'][3]"
   ]
  },
  {
   "cell_type": "code",
   "execution_count": 56,
   "metadata": {},
   "outputs": [
    {
     "name": "stdout",
     "output_type": "stream",
     "text": [
      "<class 'pandas.core.frame.DataFrame'>\n",
      "RangeIndex: 1000 entries, 0 to 999\n",
      "Data columns (total 1 columns):\n",
      " #   Column   Non-Null Count  Dtype \n",
      "---  ------   --------------  ----- \n",
      " 0   reviews  1000 non-null   object\n",
      "dtypes: object(1)\n",
      "memory usage: 7.9+ KB\n",
      "<class 'pandas.core.frame.DataFrame'>\n",
      "RangeIndex: 1000 entries, 0 to 999\n",
      "Data columns (total 1 columns):\n",
      " #   Column   Non-Null Count  Dtype \n",
      "---  ------   --------------  ----- \n",
      " 0   reviews  1000 non-null   object\n",
      "dtypes: object(1)\n",
      "memory usage: 7.9+ KB\n"
     ]
    }
   ],
   "source": [
    "df.info()"
   ]
  },
  {
   "cell_type": "code",
   "execution_count": 57,
   "metadata": {},
   "outputs": [
    {
     "data": {
      "text/plain": [
       "0      [  My itinerary was supposed to be Las Vegas-C...\n",
       "1      [  Busy day at LHR and flight full. Lounge cro...\n",
       "2      [ Worst seats I have ever encountered in econo...\n",
       "3      [ Top Ten REASONS to not use British Airways T...\n",
       "4      [  Easy check in on the way to Heathrow. The f...\n",
       "                             ...                        \n",
       "995    [  London to Frankfurt. I need to fly BA for B...\n",
       "996    [ Gatwick to Malaga. When booking the tickets,...\n",
       "997    [  Bermuda to Gatwick. Usual window and Aisle ...\n",
       "998    [  Aberdeen to Boston via London Heathrow. I f...\n",
       "999    [  London to Hamburg. Baggage self-check-in wa...\n",
       "Name: reviews, Length: 1000, dtype: object"
      ]
     },
     "execution_count": 57,
     "metadata": {},
     "output_type": "execute_result"
    },
    {
     "data": {
      "text/plain": [
       "0      [  My itinerary was supposed to be Las Vegas-C...\n",
       "1      [  Busy day at LHR and flight full. Lounge cro...\n",
       "2      [ Worst seats I have ever encountered in econo...\n",
       "3      [ Top Ten REASONS to not use British Airways T...\n",
       "4      [  Easy check in on the way to Heathrow. The f...\n",
       "                             ...                        \n",
       "995    [  London to Frankfurt. I need to fly BA for B...\n",
       "996    [ Gatwick to Malaga. When booking the tickets,...\n",
       "997    [  Bermuda to Gatwick. Usual window and Aisle ...\n",
       "998    [  Aberdeen to Boston via London Heathrow. I f...\n",
       "999    [  London to Hamburg. Baggage self-check-in wa...\n",
       "Name: reviews, Length: 1000, dtype: object"
      ]
     },
     "execution_count": 57,
     "metadata": {},
     "output_type": "execute_result"
    }
   ],
   "source": [
    "df['reviews']"
   ]
  },
  {
   "cell_type": "code",
   "execution_count": 58,
   "metadata": {},
   "outputs": [
    {
     "data": {
      "text/html": [
       "<div>\n",
       "<style scoped>\n",
       "    .dataframe tbody tr th:only-of-type {\n",
       "        vertical-align: middle;\n",
       "    }\n",
       "\n",
       "    .dataframe tbody tr th {\n",
       "        vertical-align: top;\n",
       "    }\n",
       "\n",
       "    .dataframe thead th {\n",
       "        text-align: right;\n",
       "    }\n",
       "</style>\n",
       "<table border=\"1\" class=\"dataframe\">\n",
       "  <thead>\n",
       "    <tr style=\"text-align: right;\">\n",
       "      <th></th>\n",
       "      <th>reviews</th>\n",
       "    </tr>\n",
       "  </thead>\n",
       "  <tbody>\n",
       "    <tr>\n",
       "      <th>0</th>\n",
       "      <td>[  My itinerary was supposed to be Las Vegas-C...</td>\n",
       "    </tr>\n",
       "    <tr>\n",
       "      <th>1</th>\n",
       "      <td>[  Busy day at LHR and flight full. Lounge cro...</td>\n",
       "    </tr>\n",
       "    <tr>\n",
       "      <th>2</th>\n",
       "      <td>[ Worst seats I have ever encountered in econo...</td>\n",
       "    </tr>\n",
       "    <tr>\n",
       "      <th>3</th>\n",
       "      <td>[ Top Ten REASONS to not use British Airways T...</td>\n",
       "    </tr>\n",
       "  </tbody>\n",
       "</table>\n",
       "</div>"
      ],
      "text/plain": [
       "                                             reviews\n",
       "0  [  My itinerary was supposed to be Las Vegas-C...\n",
       "1  [  Busy day at LHR and flight full. Lounge cro...\n",
       "2  [ Worst seats I have ever encountered in econo...\n",
       "3  [ Top Ten REASONS to not use British Airways T..."
      ]
     },
     "execution_count": 58,
     "metadata": {},
     "output_type": "execute_result"
    },
    {
     "data": {
      "text/html": [
       "<div>\n",
       "<style scoped>\n",
       "    .dataframe tbody tr th:only-of-type {\n",
       "        vertical-align: middle;\n",
       "    }\n",
       "\n",
       "    .dataframe tbody tr th {\n",
       "        vertical-align: top;\n",
       "    }\n",
       "\n",
       "    .dataframe thead th {\n",
       "        text-align: right;\n",
       "    }\n",
       "</style>\n",
       "<table border=\"1\" class=\"dataframe\">\n",
       "  <thead>\n",
       "    <tr style=\"text-align: right;\">\n",
       "      <th></th>\n",
       "      <th>reviews</th>\n",
       "    </tr>\n",
       "  </thead>\n",
       "  <tbody>\n",
       "    <tr>\n",
       "      <th>0</th>\n",
       "      <td>[  My itinerary was supposed to be Las Vegas-C...</td>\n",
       "    </tr>\n",
       "    <tr>\n",
       "      <th>1</th>\n",
       "      <td>[  Busy day at LHR and flight full. Lounge cro...</td>\n",
       "    </tr>\n",
       "    <tr>\n",
       "      <th>2</th>\n",
       "      <td>[ Worst seats I have ever encountered in econo...</td>\n",
       "    </tr>\n",
       "    <tr>\n",
       "      <th>3</th>\n",
       "      <td>[ Top Ten REASONS to not use British Airways T...</td>\n",
       "    </tr>\n",
       "  </tbody>\n",
       "</table>\n",
       "</div>"
      ],
      "text/plain": [
       "                                             reviews\n",
       "0  [  My itinerary was supposed to be Las Vegas-C...\n",
       "1  [  Busy day at LHR and flight full. Lounge cro...\n",
       "2  [ Worst seats I have ever encountered in econo...\n",
       "3  [ Top Ten REASONS to not use British Airways T..."
      ]
     },
     "execution_count": 58,
     "metadata": {},
     "output_type": "execute_result"
    }
   ],
   "source": [
    " df.head(4)"
   ]
  },
  {
   "cell_type": "code",
   "execution_count": 59,
   "metadata": {},
   "outputs": [],
   "source": [
    "#converting lists to strings\n",
    "#[1]\n",
    "df['reviews'] = [','.join(map(str, l)) for l in df['reviews']]"
   ]
  },
  {
   "cell_type": "code",
   "execution_count": 60,
   "metadata": {},
   "outputs": [
    {
     "data": {
      "text/plain": [
       "0        My itinerary was supposed to be Las Vegas-Ch...\n",
       "1        Busy day at LHR and flight full. Lounge crow...\n",
       "2       Worst seats I have ever encountered in econom...\n",
       "3       Top Ten REASONS to not use British Airways To...\n",
       "4        Easy check in on the way to Heathrow. The fl...\n",
       "                             ...                        \n",
       "995      London to Frankfurt. I need to fly BA for Bu...\n",
       "996     Gatwick to Malaga. When booking the tickets, ...\n",
       "997      Bermuda to Gatwick. Usual window and Aisle s...\n",
       "998      Aberdeen to Boston via London Heathrow. I fo...\n",
       "999      London to Hamburg. Baggage self-check-in was...\n",
       "Name: reviews, Length: 1000, dtype: object"
      ]
     },
     "execution_count": 60,
     "metadata": {},
     "output_type": "execute_result"
    },
    {
     "data": {
      "text/plain": [
       "0        My itinerary was supposed to be Las Vegas-Ch...\n",
       "1        Busy day at LHR and flight full. Lounge crow...\n",
       "2       Worst seats I have ever encountered in econom...\n",
       "3       Top Ten REASONS to not use British Airways To...\n",
       "4        Easy check in on the way to Heathrow. The fl...\n",
       "                             ...                        \n",
       "995      London to Frankfurt. I need to fly BA for Bu...\n",
       "996     Gatwick to Malaga. When booking the tickets, ...\n",
       "997      Bermuda to Gatwick. Usual window and Aisle s...\n",
       "998      Aberdeen to Boston via London Heathrow. I fo...\n",
       "999      London to Hamburg. Baggage self-check-in was...\n",
       "Name: reviews, Length: 1000, dtype: object"
      ]
     },
     "execution_count": 60,
     "metadata": {},
     "output_type": "execute_result"
    }
   ],
   "source": [
    "df['reviews']"
   ]
  },
  {
   "cell_type": "code",
   "execution_count": 61,
   "metadata": {},
   "outputs": [
    {
     "name": "stdout",
     "output_type": "stream",
     "text": [
      "<class 'pandas.core.frame.DataFrame'>\n",
      "RangeIndex: 1000 entries, 0 to 999\n",
      "Data columns (total 1 columns):\n",
      " #   Column   Non-Null Count  Dtype \n",
      "---  ------   --------------  ----- \n",
      " 0   reviews  1000 non-null   object\n",
      "dtypes: object(1)\n",
      "memory usage: 7.9+ KB\n",
      "<class 'pandas.core.frame.DataFrame'>\n",
      "RangeIndex: 1000 entries, 0 to 999\n",
      "Data columns (total 1 columns):\n",
      " #   Column   Non-Null Count  Dtype \n",
      "---  ------   --------------  ----- \n",
      " 0   reviews  1000 non-null   object\n",
      "dtypes: object(1)\n",
      "memory usage: 7.9+ KB\n"
     ]
    }
   ],
   "source": [
    "df.info()"
   ]
  },
  {
   "cell_type": "code",
   "execution_count": 62,
   "metadata": {},
   "outputs": [
    {
     "data": {
      "text/html": [
       "<div>\n",
       "<style scoped>\n",
       "    .dataframe tbody tr th:only-of-type {\n",
       "        vertical-align: middle;\n",
       "    }\n",
       "\n",
       "    .dataframe tbody tr th {\n",
       "        vertical-align: top;\n",
       "    }\n",
       "\n",
       "    .dataframe thead th {\n",
       "        text-align: right;\n",
       "    }\n",
       "</style>\n",
       "<table border=\"1\" class=\"dataframe\">\n",
       "  <thead>\n",
       "    <tr style=\"text-align: right;\">\n",
       "      <th></th>\n",
       "      <th>reviews</th>\n",
       "    </tr>\n",
       "  </thead>\n",
       "  <tbody>\n",
       "    <tr>\n",
       "      <th>0</th>\n",
       "      <td>My itinerary was supposed to be Las Vegas-Ch...</td>\n",
       "    </tr>\n",
       "    <tr>\n",
       "      <th>1</th>\n",
       "      <td>Busy day at LHR and flight full. Lounge crow...</td>\n",
       "    </tr>\n",
       "    <tr>\n",
       "      <th>2</th>\n",
       "      <td>Worst seats I have ever encountered in econom...</td>\n",
       "    </tr>\n",
       "    <tr>\n",
       "      <th>3</th>\n",
       "      <td>Top Ten REASONS to not use British Airways To...</td>\n",
       "    </tr>\n",
       "    <tr>\n",
       "      <th>4</th>\n",
       "      <td>Easy check in on the way to Heathrow. The fl...</td>\n",
       "    </tr>\n",
       "    <tr>\n",
       "      <th>5</th>\n",
       "      <td>Online check in worked fine. Quick security ...</td>\n",
       "    </tr>\n",
       "    <tr>\n",
       "      <th>6</th>\n",
       "      <td>. The BA first lounge at Terminal 5 was a  zoo...</td>\n",
       "    </tr>\n",
       "    <tr>\n",
       "      <th>7</th>\n",
       "      <td>Paid a quick visit to Nice yesterday from Hea...</td>\n",
       "    </tr>\n",
       "    <tr>\n",
       "      <th>8</th>\n",
       "      <td>Words fail to describe this last awful fligh...</td>\n",
       "    </tr>\n",
       "    <tr>\n",
       "      <th>9</th>\n",
       "      <td>Absolutely terrible experience. The app woul...</td>\n",
       "    </tr>\n",
       "  </tbody>\n",
       "</table>\n",
       "</div>"
      ],
      "text/plain": [
       "                                             reviews\n",
       "0    My itinerary was supposed to be Las Vegas-Ch...\n",
       "1    Busy day at LHR and flight full. Lounge crow...\n",
       "2   Worst seats I have ever encountered in econom...\n",
       "3   Top Ten REASONS to not use British Airways To...\n",
       "4    Easy check in on the way to Heathrow. The fl...\n",
       "5    Online check in worked fine. Quick security ...\n",
       "6  . The BA first lounge at Terminal 5 was a  zoo...\n",
       "7   Paid a quick visit to Nice yesterday from Hea...\n",
       "8    Words fail to describe this last awful fligh...\n",
       "9    Absolutely terrible experience. The app woul..."
      ]
     },
     "execution_count": 62,
     "metadata": {},
     "output_type": "execute_result"
    },
    {
     "data": {
      "text/html": [
       "<div>\n",
       "<style scoped>\n",
       "    .dataframe tbody tr th:only-of-type {\n",
       "        vertical-align: middle;\n",
       "    }\n",
       "\n",
       "    .dataframe tbody tr th {\n",
       "        vertical-align: top;\n",
       "    }\n",
       "\n",
       "    .dataframe thead th {\n",
       "        text-align: right;\n",
       "    }\n",
       "</style>\n",
       "<table border=\"1\" class=\"dataframe\">\n",
       "  <thead>\n",
       "    <tr style=\"text-align: right;\">\n",
       "      <th></th>\n",
       "      <th>reviews</th>\n",
       "    </tr>\n",
       "  </thead>\n",
       "  <tbody>\n",
       "    <tr>\n",
       "      <th>0</th>\n",
       "      <td>My itinerary was supposed to be Las Vegas-Ch...</td>\n",
       "    </tr>\n",
       "    <tr>\n",
       "      <th>1</th>\n",
       "      <td>Busy day at LHR and flight full. Lounge crow...</td>\n",
       "    </tr>\n",
       "    <tr>\n",
       "      <th>2</th>\n",
       "      <td>Worst seats I have ever encountered in econom...</td>\n",
       "    </tr>\n",
       "    <tr>\n",
       "      <th>3</th>\n",
       "      <td>Top Ten REASONS to not use British Airways To...</td>\n",
       "    </tr>\n",
       "    <tr>\n",
       "      <th>4</th>\n",
       "      <td>Easy check in on the way to Heathrow. The fl...</td>\n",
       "    </tr>\n",
       "    <tr>\n",
       "      <th>5</th>\n",
       "      <td>Online check in worked fine. Quick security ...</td>\n",
       "    </tr>\n",
       "    <tr>\n",
       "      <th>6</th>\n",
       "      <td>. The BA first lounge at Terminal 5 was a  zoo...</td>\n",
       "    </tr>\n",
       "    <tr>\n",
       "      <th>7</th>\n",
       "      <td>Paid a quick visit to Nice yesterday from Hea...</td>\n",
       "    </tr>\n",
       "    <tr>\n",
       "      <th>8</th>\n",
       "      <td>Words fail to describe this last awful fligh...</td>\n",
       "    </tr>\n",
       "    <tr>\n",
       "      <th>9</th>\n",
       "      <td>Absolutely terrible experience. The app woul...</td>\n",
       "    </tr>\n",
       "  </tbody>\n",
       "</table>\n",
       "</div>"
      ],
      "text/plain": [
       "                                             reviews\n",
       "0    My itinerary was supposed to be Las Vegas-Ch...\n",
       "1    Busy day at LHR and flight full. Lounge crow...\n",
       "2   Worst seats I have ever encountered in econom...\n",
       "3   Top Ten REASONS to not use British Airways To...\n",
       "4    Easy check in on the way to Heathrow. The fl...\n",
       "5    Online check in worked fine. Quick security ...\n",
       "6  . The BA first lounge at Terminal 5 was a  zoo...\n",
       "7   Paid a quick visit to Nice yesterday from Hea...\n",
       "8    Words fail to describe this last awful fligh...\n",
       "9    Absolutely terrible experience. The app woul..."
      ]
     },
     "execution_count": 62,
     "metadata": {},
     "output_type": "execute_result"
    }
   ],
   "source": [
    "df.head(10)"
   ]
  },
  {
   "cell_type": "code",
   "execution_count": 63,
   "metadata": {},
   "outputs": [],
   "source": [
    "#removing the spaces in the start and end f the text\n",
    "#[2]\n",
    "df[df.columns] = df.apply(lambda x: x.str.strip())"
   ]
  },
  {
   "cell_type": "code",
   "execution_count": 64,
   "metadata": {},
   "outputs": [
    {
     "data": {
      "text/html": [
       "<div>\n",
       "<style scoped>\n",
       "    .dataframe tbody tr th:only-of-type {\n",
       "        vertical-align: middle;\n",
       "    }\n",
       "\n",
       "    .dataframe tbody tr th {\n",
       "        vertical-align: top;\n",
       "    }\n",
       "\n",
       "    .dataframe thead th {\n",
       "        text-align: right;\n",
       "    }\n",
       "</style>\n",
       "<table border=\"1\" class=\"dataframe\">\n",
       "  <thead>\n",
       "    <tr style=\"text-align: right;\">\n",
       "      <th></th>\n",
       "      <th>reviews</th>\n",
       "    </tr>\n",
       "  </thead>\n",
       "  <tbody>\n",
       "    <tr>\n",
       "      <th>0</th>\n",
       "      <td>My itinerary was supposed to be Las Vegas-Chic...</td>\n",
       "    </tr>\n",
       "    <tr>\n",
       "      <th>1</th>\n",
       "      <td>Busy day at LHR and flight full. Lounge crowde...</td>\n",
       "    </tr>\n",
       "    <tr>\n",
       "      <th>2</th>\n",
       "      <td>Worst seats I have ever encountered in economy...</td>\n",
       "    </tr>\n",
       "    <tr>\n",
       "      <th>3</th>\n",
       "      <td>Top Ten REASONS to not use British Airways To ...</td>\n",
       "    </tr>\n",
       "    <tr>\n",
       "      <th>4</th>\n",
       "      <td>Easy check in on the way to Heathrow. The flig...</td>\n",
       "    </tr>\n",
       "    <tr>\n",
       "      <th>5</th>\n",
       "      <td>Online check in worked fine. Quick security ch...</td>\n",
       "    </tr>\n",
       "    <tr>\n",
       "      <th>6</th>\n",
       "      <td>. The BA first lounge at Terminal 5 was a  zoo...</td>\n",
       "    </tr>\n",
       "    <tr>\n",
       "      <th>7</th>\n",
       "      <td>Paid a quick visit to Nice yesterday from Heat...</td>\n",
       "    </tr>\n",
       "    <tr>\n",
       "      <th>8</th>\n",
       "      <td>Words fail to describe this last awful flight ...</td>\n",
       "    </tr>\n",
       "    <tr>\n",
       "      <th>9</th>\n",
       "      <td>Absolutely terrible experience. The app would ...</td>\n",
       "    </tr>\n",
       "  </tbody>\n",
       "</table>\n",
       "</div>"
      ],
      "text/plain": [
       "                                             reviews\n",
       "0  My itinerary was supposed to be Las Vegas-Chic...\n",
       "1  Busy day at LHR and flight full. Lounge crowde...\n",
       "2  Worst seats I have ever encountered in economy...\n",
       "3  Top Ten REASONS to not use British Airways To ...\n",
       "4  Easy check in on the way to Heathrow. The flig...\n",
       "5  Online check in worked fine. Quick security ch...\n",
       "6  . The BA first lounge at Terminal 5 was a  zoo...\n",
       "7  Paid a quick visit to Nice yesterday from Heat...\n",
       "8  Words fail to describe this last awful flight ...\n",
       "9  Absolutely terrible experience. The app would ..."
      ]
     },
     "execution_count": 64,
     "metadata": {},
     "output_type": "execute_result"
    },
    {
     "data": {
      "text/html": [
       "<div>\n",
       "<style scoped>\n",
       "    .dataframe tbody tr th:only-of-type {\n",
       "        vertical-align: middle;\n",
       "    }\n",
       "\n",
       "    .dataframe tbody tr th {\n",
       "        vertical-align: top;\n",
       "    }\n",
       "\n",
       "    .dataframe thead th {\n",
       "        text-align: right;\n",
       "    }\n",
       "</style>\n",
       "<table border=\"1\" class=\"dataframe\">\n",
       "  <thead>\n",
       "    <tr style=\"text-align: right;\">\n",
       "      <th></th>\n",
       "      <th>reviews</th>\n",
       "    </tr>\n",
       "  </thead>\n",
       "  <tbody>\n",
       "    <tr>\n",
       "      <th>0</th>\n",
       "      <td>My itinerary was supposed to be Las Vegas-Chic...</td>\n",
       "    </tr>\n",
       "    <tr>\n",
       "      <th>1</th>\n",
       "      <td>Busy day at LHR and flight full. Lounge crowde...</td>\n",
       "    </tr>\n",
       "    <tr>\n",
       "      <th>2</th>\n",
       "      <td>Worst seats I have ever encountered in economy...</td>\n",
       "    </tr>\n",
       "    <tr>\n",
       "      <th>3</th>\n",
       "      <td>Top Ten REASONS to not use British Airways To ...</td>\n",
       "    </tr>\n",
       "    <tr>\n",
       "      <th>4</th>\n",
       "      <td>Easy check in on the way to Heathrow. The flig...</td>\n",
       "    </tr>\n",
       "    <tr>\n",
       "      <th>5</th>\n",
       "      <td>Online check in worked fine. Quick security ch...</td>\n",
       "    </tr>\n",
       "    <tr>\n",
       "      <th>6</th>\n",
       "      <td>. The BA first lounge at Terminal 5 was a  zoo...</td>\n",
       "    </tr>\n",
       "    <tr>\n",
       "      <th>7</th>\n",
       "      <td>Paid a quick visit to Nice yesterday from Heat...</td>\n",
       "    </tr>\n",
       "    <tr>\n",
       "      <th>8</th>\n",
       "      <td>Words fail to describe this last awful flight ...</td>\n",
       "    </tr>\n",
       "    <tr>\n",
       "      <th>9</th>\n",
       "      <td>Absolutely terrible experience. The app would ...</td>\n",
       "    </tr>\n",
       "  </tbody>\n",
       "</table>\n",
       "</div>"
      ],
      "text/plain": [
       "                                             reviews\n",
       "0  My itinerary was supposed to be Las Vegas-Chic...\n",
       "1  Busy day at LHR and flight full. Lounge crowde...\n",
       "2  Worst seats I have ever encountered in economy...\n",
       "3  Top Ten REASONS to not use British Airways To ...\n",
       "4  Easy check in on the way to Heathrow. The flig...\n",
       "5  Online check in worked fine. Quick security ch...\n",
       "6  . The BA first lounge at Terminal 5 was a  zoo...\n",
       "7  Paid a quick visit to Nice yesterday from Heat...\n",
       "8  Words fail to describe this last awful flight ...\n",
       "9  Absolutely terrible experience. The app would ..."
      ]
     },
     "execution_count": 64,
     "metadata": {},
     "output_type": "execute_result"
    }
   ],
   "source": [
    "df.head(10)"
   ]
  },
  {
   "cell_type": "code",
   "execution_count": 65,
   "metadata": {},
   "outputs": [
    {
     "data": {
      "text/plain": [
       "'Online check in worked fine. Quick security check. Once onboard quick flight up to Glasgow, water and snack provided. All in all very pleased. Cheap, quick and efficient.'"
      ]
     },
     "execution_count": 65,
     "metadata": {},
     "output_type": "execute_result"
    },
    {
     "data": {
      "text/plain": [
       "'Online check in worked fine. Quick security check. Once onboard quick flight up to Glasgow, water and snack provided. All in all very pleased. Cheap, quick and efficient.'"
      ]
     },
     "execution_count": 65,
     "metadata": {},
     "output_type": "execute_result"
    }
   ],
   "source": [
    "df['reviews'][5]"
   ]
  },
  {
   "cell_type": "code",
   "execution_count": 66,
   "metadata": {},
   "outputs": [
    {
     "data": {
      "text/plain": [
       "0    my itinerary was supposed to be las vegaschica...\n",
       "1    busy day at lhr and flight full lounge crowded...\n",
       "2    worst seats i have ever encountered in economy...\n",
       "3    top ten reasons to not use british airways to ...\n",
       "4    easy check in on the way to heathrow the fligh...\n",
       "Name: reviews_processed, dtype: object"
      ]
     },
     "execution_count": 66,
     "metadata": {},
     "output_type": "execute_result"
    },
    {
     "data": {
      "text/plain": [
       "0    my itinerary was supposed to be las vegaschica...\n",
       "1    busy day at lhr and flight full lounge crowded...\n",
       "2    worst seats i have ever encountered in economy...\n",
       "3    top ten reasons to not use british airways to ...\n",
       "4    easy check in on the way to heathrow the fligh...\n",
       "Name: reviews_processed, dtype: object"
      ]
     },
     "execution_count": 66,
     "metadata": {},
     "output_type": "execute_result"
    }
   ],
   "source": [
    "#data cleaning \n",
    "#1:remove unicode characters\n",
    "#2: lower the case\n",
    "#3:remove stopwords :words that dont give meaning in english\n",
    "#4:\n",
    "[3]\n",
    "#Remove punctuation/lower casing\n",
    "# Load the regular expression library\n",
    "import re\n",
    "# Remove punctuation (unicode characters)\n",
    "df['reviews_processed'] = \\\n",
    "df['reviews'].map(lambda x: re.sub('(@\\[A-Za-z0-9]+)|([^0-9A-Za-z \\t])|(\\w+:\\/\\/\\S+)|^rt|http.+?', '', x))\n",
    "# Convert the titles to lowercase\n",
    "df['reviews_processed'] = \\\n",
    "df['reviews_processed'].map(lambda x: x.lower())\n",
    "# Print out the first rows of papers\n",
    "df['reviews_processed'].head()"
   ]
  },
  {
   "cell_type": "code",
   "execution_count": 67,
   "metadata": {},
   "outputs": [
    {
     "name": "stderr",
     "output_type": "stream",
     "text": [
      "[nltk_data] Downloading package stopwords to\n",
      "[nltk_data]     C:\\Users\\eng_m\\AppData\\Roaming\\nltk_data...\n",
      "[nltk_data]   Package stopwords is already up-to-date!\n",
      "[nltk_data] Downloading package stopwords to\n",
      "[nltk_data]     C:\\Users\\eng_m\\AppData\\Roaming\\nltk_data...\n",
      "[nltk_data]   Package stopwords is already up-to-date!\n"
     ]
    }
   ],
   "source": [
    "import nltk.corpus\n",
    "nltk.download('stopwords')\n",
    "from nltk.corpus import stopwords"
   ]
  },
  {
   "cell_type": "code",
   "execution_count": 68,
   "metadata": {},
   "outputs": [
    {
     "data": {
      "text/plain": [
       "0      itinerary supposed las vegaschicagolondonvenic...\n",
       "1      busy day lhr flight full lounge crowded b gate...\n",
       "2      worst seats ever encountered economy class leg...\n",
       "3      top ten reasons use british airways aware noti...\n",
       "4      easy check way heathrow flight time issues ret...\n",
       "                             ...                        \n",
       "995    london frankfurt need fly ba business frequent...\n",
       "996    gatwick malaga booking tickets realised choosi...\n",
       "997    bermuda gatwick usual window aisle seat taken ...\n",
       "998    aberdeen boston via london heathrow found seat...\n",
       "999    london hamburg baggage selfcheckin diabolical ...\n",
       "Name: reviews_processed, Length: 1000, dtype: object"
      ]
     },
     "execution_count": 68,
     "metadata": {},
     "output_type": "execute_result"
    },
    {
     "data": {
      "text/plain": [
       "0      itinerary supposed las vegaschicagolondonvenic...\n",
       "1      busy day lhr flight full lounge crowded b gate...\n",
       "2      worst seats ever encountered economy class leg...\n",
       "3      top ten reasons use british airways aware noti...\n",
       "4      easy check way heathrow flight time issues ret...\n",
       "                             ...                        \n",
       "995    london frankfurt need fly ba business frequent...\n",
       "996    gatwick malaga booking tickets realised choosi...\n",
       "997    bermuda gatwick usual window aisle seat taken ...\n",
       "998    aberdeen boston via london heathrow found seat...\n",
       "999    london hamburg baggage selfcheckin diabolical ...\n",
       "Name: reviews_processed, Length: 1000, dtype: object"
      ]
     },
     "execution_count": 68,
     "metadata": {},
     "output_type": "execute_result"
    }
   ],
   "source": [
    "stop = stopwords.words('english')\n",
    "df['reviews_processed'].map(lambda x: ' '.join([word for word in x.split() if word not in (stop)]))"
   ]
  },
  {
   "cell_type": "code",
   "execution_count": 69,
   "metadata": {},
   "outputs": [
    {
     "data": {
      "text/html": [
       "<div>\n",
       "<style scoped>\n",
       "    .dataframe tbody tr th:only-of-type {\n",
       "        vertical-align: middle;\n",
       "    }\n",
       "\n",
       "    .dataframe tbody tr th {\n",
       "        vertical-align: top;\n",
       "    }\n",
       "\n",
       "    .dataframe thead th {\n",
       "        text-align: right;\n",
       "    }\n",
       "</style>\n",
       "<table border=\"1\" class=\"dataframe\">\n",
       "  <thead>\n",
       "    <tr style=\"text-align: right;\">\n",
       "      <th></th>\n",
       "      <th>reviews</th>\n",
       "      <th>reviews_processed</th>\n",
       "    </tr>\n",
       "  </thead>\n",
       "  <tbody>\n",
       "    <tr>\n",
       "      <th>0</th>\n",
       "      <td>My itinerary was supposed to be Las Vegas-Chic...</td>\n",
       "      <td>my itinerary was supposed to be las vegaschica...</td>\n",
       "    </tr>\n",
       "    <tr>\n",
       "      <th>1</th>\n",
       "      <td>Busy day at LHR and flight full. Lounge crowde...</td>\n",
       "      <td>busy day at lhr and flight full lounge crowded...</td>\n",
       "    </tr>\n",
       "    <tr>\n",
       "      <th>2</th>\n",
       "      <td>Worst seats I have ever encountered in economy...</td>\n",
       "      <td>worst seats i have ever encountered in economy...</td>\n",
       "    </tr>\n",
       "    <tr>\n",
       "      <th>3</th>\n",
       "      <td>Top Ten REASONS to not use British Airways To ...</td>\n",
       "      <td>top ten reasons to not use british airways to ...</td>\n",
       "    </tr>\n",
       "    <tr>\n",
       "      <th>4</th>\n",
       "      <td>Easy check in on the way to Heathrow. The flig...</td>\n",
       "      <td>easy check in on the way to heathrow the fligh...</td>\n",
       "    </tr>\n",
       "  </tbody>\n",
       "</table>\n",
       "</div>"
      ],
      "text/plain": [
       "                                             reviews  \\\n",
       "0  My itinerary was supposed to be Las Vegas-Chic...   \n",
       "1  Busy day at LHR and flight full. Lounge crowde...   \n",
       "2  Worst seats I have ever encountered in economy...   \n",
       "3  Top Ten REASONS to not use British Airways To ...   \n",
       "4  Easy check in on the way to Heathrow. The flig...   \n",
       "\n",
       "                                   reviews_processed  \n",
       "0  my itinerary was supposed to be las vegaschica...  \n",
       "1  busy day at lhr and flight full lounge crowded...  \n",
       "2  worst seats i have ever encountered in economy...  \n",
       "3  top ten reasons to not use british airways to ...  \n",
       "4  easy check in on the way to heathrow the fligh...  "
      ]
     },
     "execution_count": 69,
     "metadata": {},
     "output_type": "execute_result"
    },
    {
     "data": {
      "text/html": [
       "<div>\n",
       "<style scoped>\n",
       "    .dataframe tbody tr th:only-of-type {\n",
       "        vertical-align: middle;\n",
       "    }\n",
       "\n",
       "    .dataframe tbody tr th {\n",
       "        vertical-align: top;\n",
       "    }\n",
       "\n",
       "    .dataframe thead th {\n",
       "        text-align: right;\n",
       "    }\n",
       "</style>\n",
       "<table border=\"1\" class=\"dataframe\">\n",
       "  <thead>\n",
       "    <tr style=\"text-align: right;\">\n",
       "      <th></th>\n",
       "      <th>reviews</th>\n",
       "      <th>reviews_processed</th>\n",
       "    </tr>\n",
       "  </thead>\n",
       "  <tbody>\n",
       "    <tr>\n",
       "      <th>0</th>\n",
       "      <td>My itinerary was supposed to be Las Vegas-Chic...</td>\n",
       "      <td>my itinerary was supposed to be las vegaschica...</td>\n",
       "    </tr>\n",
       "    <tr>\n",
       "      <th>1</th>\n",
       "      <td>Busy day at LHR and flight full. Lounge crowde...</td>\n",
       "      <td>busy day at lhr and flight full lounge crowded...</td>\n",
       "    </tr>\n",
       "    <tr>\n",
       "      <th>2</th>\n",
       "      <td>Worst seats I have ever encountered in economy...</td>\n",
       "      <td>worst seats i have ever encountered in economy...</td>\n",
       "    </tr>\n",
       "    <tr>\n",
       "      <th>3</th>\n",
       "      <td>Top Ten REASONS to not use British Airways To ...</td>\n",
       "      <td>top ten reasons to not use british airways to ...</td>\n",
       "    </tr>\n",
       "    <tr>\n",
       "      <th>4</th>\n",
       "      <td>Easy check in on the way to Heathrow. The flig...</td>\n",
       "      <td>easy check in on the way to heathrow the fligh...</td>\n",
       "    </tr>\n",
       "  </tbody>\n",
       "</table>\n",
       "</div>"
      ],
      "text/plain": [
       "                                             reviews  \\\n",
       "0  My itinerary was supposed to be Las Vegas-Chic...   \n",
       "1  Busy day at LHR and flight full. Lounge crowde...   \n",
       "2  Worst seats I have ever encountered in economy...   \n",
       "3  Top Ten REASONS to not use British Airways To ...   \n",
       "4  Easy check in on the way to Heathrow. The flig...   \n",
       "\n",
       "                                   reviews_processed  \n",
       "0  my itinerary was supposed to be las vegaschica...  \n",
       "1  busy day at lhr and flight full lounge crowded...  \n",
       "2  worst seats i have ever encountered in economy...  \n",
       "3  top ten reasons to not use british airways to ...  \n",
       "4  easy check in on the way to heathrow the fligh...  "
      ]
     },
     "execution_count": 69,
     "metadata": {},
     "output_type": "execute_result"
    }
   ],
   "source": [
    "df.head()"
   ]
  },
  {
   "cell_type": "code",
   "execution_count": 70,
   "metadata": {},
   "outputs": [
    {
     "name": "stdout",
     "output_type": "stream",
     "text": [
      "Requirement already satisfied: wordcloud in c:\\users\\eng_m\\anaconda3\\lib\\site-packages (1.9.2)\n",
      "Requirement already satisfied: matplotlib in c:\\users\\eng_m\\anaconda3\\lib\\site-packages (from wordcloud) (3.3.4)\n",
      "Requirement already satisfied: numpy>=1.6.1 in c:\\users\\eng_m\\anaconda3\\lib\\site-packages (from wordcloud) (1.20.1)\n",
      "Requirement already satisfied: pillow in c:\\users\\eng_m\\anaconda3\\lib\\site-packages (from wordcloud) (9.5.0)\n",
      "Requirement already satisfied: cycler>=0.10 in c:\\users\\eng_m\\anaconda3\\lib\\site-packages (from matplotlib->wordcloud) (0.10.0)\n",
      "Requirement already satisfied: kiwisolver>=1.0.1 in c:\\users\\eng_m\\anaconda3\\lib\\site-packages (from matplotlib->wordcloud) (1.3.1)\n",
      "Requirement already satisfied: python-dateutil>=2.1 in c:\\users\\eng_m\\anaconda3\\lib\\site-packages (from matplotlib->wordcloud) (2.8.1)\n",
      "Requirement already satisfied: pyparsing!=2.0.4,!=2.1.2,!=2.1.6,>=2.0.3 in c:\\users\\eng_m\\anaconda3\\lib\\site-packages (from matplotlib->wordcloud) (2.4.7)\n",
      "Requirement already satisfied: six in c:\\users\\eng_m\\anaconda3\\lib\\site-packages (from cycler>=0.10->matplotlib->wordcloud) (1.15.0)\n",
      "Note: you may need to restart the kernel to use updated packages.\n",
      "Requirement already satisfied: wordcloud in c:\\users\\eng_m\\anaconda3\\lib\\site-packages (1.9.2)\n",
      "Requirement already satisfied: matplotlib in c:\\users\\eng_m\\anaconda3\\lib\\site-packages (from wordcloud) (3.3.4)\n",
      "Requirement already satisfied: numpy>=1.6.1 in c:\\users\\eng_m\\anaconda3\\lib\\site-packages (from wordcloud) (1.20.1)\n",
      "Requirement already satisfied: pillow in c:\\users\\eng_m\\anaconda3\\lib\\site-packages (from wordcloud) (9.5.0)\n",
      "Requirement already satisfied: cycler>=0.10 in c:\\users\\eng_m\\anaconda3\\lib\\site-packages (from matplotlib->wordcloud) (0.10.0)\n",
      "Requirement already satisfied: kiwisolver>=1.0.1 in c:\\users\\eng_m\\anaconda3\\lib\\site-packages (from matplotlib->wordcloud) (1.3.1)\n",
      "Requirement already satisfied: python-dateutil>=2.1 in c:\\users\\eng_m\\anaconda3\\lib\\site-packages (from matplotlib->wordcloud) (2.8.1)\n",
      "Requirement already satisfied: pyparsing!=2.0.4,!=2.1.2,!=2.1.6,>=2.0.3 in c:\\users\\eng_m\\anaconda3\\lib\\site-packages (from matplotlib->wordcloud) (2.4.7)\n",
      "Requirement already satisfied: six in c:\\users\\eng_m\\anaconda3\\lib\\site-packages (from cycler>=0.10->matplotlib->wordcloud) (1.15.0)\n",
      "Note: you may need to restart the kernel to use updated packages.\n"
     ]
    }
   ],
   "source": [
    " pip install wordcloud"
   ]
  },
  {
   "cell_type": "code",
   "execution_count": 71,
   "metadata": {},
   "outputs": [
    {
     "name": "stdout",
     "output_type": "stream",
     "text": [
      "Requirement already satisfied: pillow in c:\\users\\eng_m\\anaconda3\\lib\\site-packages (9.5.0)\n",
      "Note: you may need to restart the kernel to use updated packages.\n",
      "Requirement already satisfied: pillow in c:\\users\\eng_m\\anaconda3\\lib\\site-packages (9.5.0)\n",
      "Note: you may need to restart the kernel to use updated packages.\n"
     ]
    }
   ],
   "source": [
    "pip install --upgrade pillow"
   ]
  },
  {
   "cell_type": "code",
   "execution_count": 72,
   "metadata": {},
   "outputs": [
    {
     "data": {
      "image/png": "[encoded data removed]",
      "text/plain": [
       "<PIL.Image.Image image mode=RGB size=400x200>"
      ]
     },
     "execution_count": 72,
     "metadata": {},
     "output_type": "execute_result"
    },
    {
     "data": {
      "image/png": "[encoded data removed]",
      "text/plain": [
       "<PIL.Image.Image image mode=RGB size=400x200>"
      ]
     },
     "execution_count": 72,
     "metadata": {},
     "output_type": "execute_result"
    }
   ],
   "source": [
    "#data exploratory\n",
    "#[3]\n",
    "# Import the wordcloud library\n",
    "#from wordcloud import WordCloud\n",
    "import re  \n",
    "import matplotlib.pyplot as plt  \n",
    "from wordcloud import WordCloud, STOPWORDS \n",
    "# Join the different processed titles together.\n",
    "long_string = ','.join(list(df['reviews_processed'].values))\n",
    "# Create a WordCloud object\n",
    "wordcloud = WordCloud(background_color=\"white\", max_words=5000, contour_width=3, contour_color='steelblue')\n",
    "# Generate a word cloud\n",
    "wordcloud.generate(long_string)\n",
    "# Visualize the word cloud\n",
    "wordcloud.to_image()"
   ]
  },
  {
   "cell_type": "markdown",
   "metadata": {},
   "source": [
    "### The words 'flight' ,'london' , 'seat' , 'service' ,'time' are the most frequent words in the sentences "
   ]
  },
  {
   "cell_type": "code",
   "execution_count": 73,
   "metadata": {},
   "outputs": [
    {
     "data": {
      "text/plain": [
       "0      my itinerary was supposed to be las vegaschica...\n",
       "1      busy day at lhr and flight full lounge crowded...\n",
       "2      worst seats i have ever encountered in economy...\n",
       "3      top ten reasons to not use british airways to ...\n",
       "4      easy check in on the way to heathrow the fligh...\n",
       "                             ...                        \n",
       "995    london to frankfurt i need to fly ba for busin...\n",
       "996    gatwick to malaga when booking the tickets i r...\n",
       "997    bermuda to gatwick usual window and aisle seat...\n",
       "998    aberdeen to boston via london heathrow i found...\n",
       "999    london to hamburg baggage selfcheckin was diab...\n",
       "Name: reviews_processed, Length: 1000, dtype: object"
      ]
     },
     "execution_count": 73,
     "metadata": {},
     "output_type": "execute_result"
    },
    {
     "data": {
      "text/plain": [
       "0      my itinerary was supposed to be las vegaschica...\n",
       "1      busy day at lhr and flight full lounge crowded...\n",
       "2      worst seats i have ever encountered in economy...\n",
       "3      top ten reasons to not use british airways to ...\n",
       "4      easy check in on the way to heathrow the fligh...\n",
       "                             ...                        \n",
       "995    london to frankfurt i need to fly ba for busin...\n",
       "996    gatwick to malaga when booking the tickets i r...\n",
       "997    bermuda to gatwick usual window and aisle seat...\n",
       "998    aberdeen to boston via london heathrow i found...\n",
       "999    london to hamburg baggage selfcheckin was diab...\n",
       "Name: reviews_processed, Length: 1000, dtype: object"
      ]
     },
     "execution_count": 73,
     "metadata": {},
     "output_type": "execute_result"
    }
   ],
   "source": [
    "df['reviews_processed']"
   ]
  },
  {
   "cell_type": "code",
   "execution_count": 74,
   "metadata": {},
   "outputs": [
    {
     "name": "stdout",
     "output_type": "stream",
     "text": [
      "Requirement already satisfied: textblob in c:\\users\\eng_m\\anaconda3\\lib\\site-packages (0.17.1)\n",
      "Requirement already satisfied: nltk>=3.1 in c:\\users\\eng_m\\anaconda3\\lib\\site-packages (from textblob) (3.6.1)\n",
      "Requirement already satisfied: tqdm in c:\\users\\eng_m\\anaconda3\\lib\\site-packages (from nltk>=3.1->textblob) (4.59.0)\n",
      "Requirement already satisfied: regex in c:\\users\\eng_m\\anaconda3\\lib\\site-packages (from nltk>=3.1->textblob) (2021.4.4)\n",
      "Requirement already satisfied: joblib in c:\\users\\eng_m\\anaconda3\\lib\\site-packages (from nltk>=3.1->textblob) (1.0.1)\n",
      "Requirement already satisfied: click in c:\\users\\eng_m\\anaconda3\\lib\\site-packages (from nltk>=3.1->textblob) (7.1.2)\n",
      "Note: you may need to restart the kernel to use updated packages.\n",
      "Requirement already satisfied: textblob in c:\\users\\eng_m\\anaconda3\\lib\\site-packages (0.17.1)\n",
      "Requirement already satisfied: nltk>=3.1 in c:\\users\\eng_m\\anaconda3\\lib\\site-packages (from textblob) (3.6.1)\n",
      "Requirement already satisfied: tqdm in c:\\users\\eng_m\\anaconda3\\lib\\site-packages (from nltk>=3.1->textblob) (4.59.0)\n",
      "Requirement already satisfied: regex in c:\\users\\eng_m\\anaconda3\\lib\\site-packages (from nltk>=3.1->textblob) (2021.4.4)\n",
      "Requirement already satisfied: joblib in c:\\users\\eng_m\\anaconda3\\lib\\site-packages (from nltk>=3.1->textblob) (1.0.1)\n",
      "Requirement already satisfied: click in c:\\users\\eng_m\\anaconda3\\lib\\site-packages (from nltk>=3.1->textblob) (7.1.2)\n",
      "Note: you may need to restart the kernel to use updated packages.\n"
     ]
    }
   ],
   "source": [
    "pip install -U textblob"
   ]
  },
  {
   "cell_type": "code",
   "execution_count": 75,
   "metadata": {},
   "outputs": [],
   "source": [
    "from textblob import TextBlob"
   ]
  },
  {
   "cell_type": "code",
   "execution_count": 76,
   "metadata": {},
   "outputs": [
    {
     "name": "stdout",
     "output_type": "stream",
     "text": [
      "Polarity of Text 1 is 0.32393939393939397\n",
      "Subjectivity of Text 1 is 0.45272727272727276\n",
      "Polarity of Text 1 is 0.32393939393939397\n",
      "Subjectivity of Text 1 is 0.45272727272727276\n"
     ]
    }
   ],
   "source": [
    "#[5]\n",
    "#the Polarity \n",
    "p_1 = TextBlob(df['reviews_processed'][1]).sentiment.polarity\n",
    "\n",
    "#the Subjectivity\n",
    "s_1 = TextBlob(df['reviews_processed'][1]).sentiment.subjectivity\n",
    "\n",
    "print(\"Polarity of Text 1 is\", p_1)\n",
    "print(\"Subjectivity of Text 1 is\", s_1)"
   ]
  },
  {
   "cell_type": "code",
   "execution_count": 77,
   "metadata": {},
   "outputs": [],
   "source": [
    "df[['polarity', 'subjectivity']] = df['reviews_processed'].apply(lambda reviews_processed: pd.Series(TextBlob(reviews_processed).sentiment))"
   ]
  },
  {
   "cell_type": "code",
   "execution_count": 78,
   "metadata": {},
   "outputs": [
    {
     "data": {
      "text/html": [
       "<div>\n",
       "<style scoped>\n",
       "    .dataframe tbody tr th:only-of-type {\n",
       "        vertical-align: middle;\n",
       "    }\n",
       "\n",
       "    .dataframe tbody tr th {\n",
       "        vertical-align: top;\n",
       "    }\n",
       "\n",
       "    .dataframe thead th {\n",
       "        text-align: right;\n",
       "    }\n",
       "</style>\n",
       "<table border=\"1\" class=\"dataframe\">\n",
       "  <thead>\n",
       "    <tr style=\"text-align: right;\">\n",
       "      <th></th>\n",
       "      <th>reviews</th>\n",
       "      <th>reviews_processed</th>\n",
       "      <th>polarity</th>\n",
       "      <th>subjectivity</th>\n",
       "    </tr>\n",
       "  </thead>\n",
       "  <tbody>\n",
       "    <tr>\n",
       "      <th>0</th>\n",
       "      <td>My itinerary was supposed to be Las Vegas-Chic...</td>\n",
       "      <td>my itinerary was supposed to be las vegaschica...</td>\n",
       "      <td>-0.027485</td>\n",
       "      <td>0.471345</td>\n",
       "    </tr>\n",
       "    <tr>\n",
       "      <th>1</th>\n",
       "      <td>Busy day at LHR and flight full. Lounge crowde...</td>\n",
       "      <td>busy day at lhr and flight full lounge crowded...</td>\n",
       "      <td>0.323939</td>\n",
       "      <td>0.452727</td>\n",
       "    </tr>\n",
       "    <tr>\n",
       "      <th>2</th>\n",
       "      <td>Worst seats I have ever encountered in economy...</td>\n",
       "      <td>worst seats i have ever encountered in economy...</td>\n",
       "      <td>0.071429</td>\n",
       "      <td>0.351190</td>\n",
       "    </tr>\n",
       "    <tr>\n",
       "      <th>3</th>\n",
       "      <td>Top Ten REASONS to not use British Airways To ...</td>\n",
       "      <td>top ten reasons to not use british airways to ...</td>\n",
       "      <td>0.047209</td>\n",
       "      <td>0.533032</td>\n",
       "    </tr>\n",
       "    <tr>\n",
       "      <th>4</th>\n",
       "      <td>Easy check in on the way to Heathrow. The flig...</td>\n",
       "      <td>easy check in on the way to heathrow the fligh...</td>\n",
       "      <td>0.096667</td>\n",
       "      <td>0.306667</td>\n",
       "    </tr>\n",
       "    <tr>\n",
       "      <th>...</th>\n",
       "      <td>...</td>\n",
       "      <td>...</td>\n",
       "      <td>...</td>\n",
       "      <td>...</td>\n",
       "    </tr>\n",
       "    <tr>\n",
       "      <th>995</th>\n",
       "      <td>London to Frankfurt. I need to fly BA for Busi...</td>\n",
       "      <td>london to frankfurt i need to fly ba for busin...</td>\n",
       "      <td>0.021875</td>\n",
       "      <td>0.559375</td>\n",
       "    </tr>\n",
       "    <tr>\n",
       "      <th>996</th>\n",
       "      <td>Gatwick to Malaga. When booking the tickets, I...</td>\n",
       "      <td>gatwick to malaga when booking the tickets i r...</td>\n",
       "      <td>0.524911</td>\n",
       "      <td>0.756429</td>\n",
       "    </tr>\n",
       "    <tr>\n",
       "      <th>997</th>\n",
       "      <td>Bermuda to Gatwick. Usual window and Aisle sea...</td>\n",
       "      <td>bermuda to gatwick usual window and aisle seat...</td>\n",
       "      <td>0.051667</td>\n",
       "      <td>0.457500</td>\n",
       "    </tr>\n",
       "    <tr>\n",
       "      <th>998</th>\n",
       "      <td>Aberdeen to Boston via London Heathrow. I foun...</td>\n",
       "      <td>aberdeen to boston via london heathrow i found...</td>\n",
       "      <td>0.040000</td>\n",
       "      <td>0.365000</td>\n",
       "    </tr>\n",
       "    <tr>\n",
       "      <th>999</th>\n",
       "      <td>London to Hamburg. Baggage self-check-in was d...</td>\n",
       "      <td>london to hamburg baggage selfcheckin was diab...</td>\n",
       "      <td>0.161364</td>\n",
       "      <td>0.504545</td>\n",
       "    </tr>\n",
       "  </tbody>\n",
       "</table>\n",
       "<p>1000 rows × 4 columns</p>\n",
       "</div>"
      ],
      "text/plain": [
       "                                               reviews  \\\n",
       "0    My itinerary was supposed to be Las Vegas-Chic...   \n",
       "1    Busy day at LHR and flight full. Lounge crowde...   \n",
       "2    Worst seats I have ever encountered in economy...   \n",
       "3    Top Ten REASONS to not use British Airways To ...   \n",
       "4    Easy check in on the way to Heathrow. The flig...   \n",
       "..                                                 ...   \n",
       "995  London to Frankfurt. I need to fly BA for Busi...   \n",
       "996  Gatwick to Malaga. When booking the tickets, I...   \n",
       "997  Bermuda to Gatwick. Usual window and Aisle sea...   \n",
       "998  Aberdeen to Boston via London Heathrow. I foun...   \n",
       "999  London to Hamburg. Baggage self-check-in was d...   \n",
       "\n",
       "                                     reviews_processed  polarity  subjectivity  \n",
       "0    my itinerary was supposed to be las vegaschica... -0.027485      0.471345  \n",
       "1    busy day at lhr and flight full lounge crowded...  0.323939      0.452727  \n",
       "2    worst seats i have ever encountered in economy...  0.071429      0.351190  \n",
       "3    top ten reasons to not use british airways to ...  0.047209      0.533032  \n",
       "4    easy check in on the way to heathrow the fligh...  0.096667      0.306667  \n",
       "..                                                 ...       ...           ...  \n",
       "995  london to frankfurt i need to fly ba for busin...  0.021875      0.559375  \n",
       "996  gatwick to malaga when booking the tickets i r...  0.524911      0.756429  \n",
       "997  bermuda to gatwick usual window and aisle seat...  0.051667      0.457500  \n",
       "998  aberdeen to boston via london heathrow i found...  0.040000      0.365000  \n",
       "999  london to hamburg baggage selfcheckin was diab...  0.161364      0.504545  \n",
       "\n",
       "[1000 rows x 4 columns]"
      ]
     },
     "execution_count": 78,
     "metadata": {},
     "output_type": "execute_result"
    },
    {
     "data": {
      "text/html": [
       "<div>\n",
       "<style scoped>\n",
       "    .dataframe tbody tr th:only-of-type {\n",
       "        vertical-align: middle;\n",
       "    }\n",
       "\n",
       "    .dataframe tbody tr th {\n",
       "        vertical-align: top;\n",
       "    }\n",
       "\n",
       "    .dataframe thead th {\n",
       "        text-align: right;\n",
       "    }\n",
       "</style>\n",
       "<table border=\"1\" class=\"dataframe\">\n",
       "  <thead>\n",
       "    <tr style=\"text-align: right;\">\n",
       "      <th></th>\n",
       "      <th>reviews</th>\n",
       "      <th>reviews_processed</th>\n",
       "      <th>polarity</th>\n",
       "      <th>subjectivity</th>\n",
       "    </tr>\n",
       "  </thead>\n",
       "  <tbody>\n",
       "    <tr>\n",
       "      <th>0</th>\n",
       "      <td>My itinerary was supposed to be Las Vegas-Chic...</td>\n",
       "      <td>my itinerary was supposed to be las vegaschica...</td>\n",
       "      <td>-0.027485</td>\n",
       "      <td>0.471345</td>\n",
       "    </tr>\n",
       "    <tr>\n",
       "      <th>1</th>\n",
       "      <td>Busy day at LHR and flight full. Lounge crowde...</td>\n",
       "      <td>busy day at lhr and flight full lounge crowded...</td>\n",
       "      <td>0.323939</td>\n",
       "      <td>0.452727</td>\n",
       "    </tr>\n",
       "    <tr>\n",
       "      <th>2</th>\n",
       "      <td>Worst seats I have ever encountered in economy...</td>\n",
       "      <td>worst seats i have ever encountered in economy...</td>\n",
       "      <td>0.071429</td>\n",
       "      <td>0.351190</td>\n",
       "    </tr>\n",
       "    <tr>\n",
       "      <th>3</th>\n",
       "      <td>Top Ten REASONS to not use British Airways To ...</td>\n",
       "      <td>top ten reasons to not use british airways to ...</td>\n",
       "      <td>0.047209</td>\n",
       "      <td>0.533032</td>\n",
       "    </tr>\n",
       "    <tr>\n",
       "      <th>4</th>\n",
       "      <td>Easy check in on the way to Heathrow. The flig...</td>\n",
       "      <td>easy check in on the way to heathrow the fligh...</td>\n",
       "      <td>0.096667</td>\n",
       "      <td>0.306667</td>\n",
       "    </tr>\n",
       "    <tr>\n",
       "      <th>...</th>\n",
       "      <td>...</td>\n",
       "      <td>...</td>\n",
       "      <td>...</td>\n",
       "      <td>...</td>\n",
       "    </tr>\n",
       "    <tr>\n",
       "      <th>995</th>\n",
       "      <td>London to Frankfurt. I need to fly BA for Busi...</td>\n",
       "      <td>london to frankfurt i need to fly ba for busin...</td>\n",
       "      <td>0.021875</td>\n",
       "      <td>0.559375</td>\n",
       "    </tr>\n",
       "    <tr>\n",
       "      <th>996</th>\n",
       "      <td>Gatwick to Malaga. When booking the tickets, I...</td>\n",
       "      <td>gatwick to malaga when booking the tickets i r...</td>\n",
       "      <td>0.524911</td>\n",
       "      <td>0.756429</td>\n",
       "    </tr>\n",
       "    <tr>\n",
       "      <th>997</th>\n",
       "      <td>Bermuda to Gatwick. Usual window and Aisle sea...</td>\n",
       "      <td>bermuda to gatwick usual window and aisle seat...</td>\n",
       "      <td>0.051667</td>\n",
       "      <td>0.457500</td>\n",
       "    </tr>\n",
       "    <tr>\n",
       "      <th>998</th>\n",
       "      <td>Aberdeen to Boston via London Heathrow. I foun...</td>\n",
       "      <td>aberdeen to boston via london heathrow i found...</td>\n",
       "      <td>0.040000</td>\n",
       "      <td>0.365000</td>\n",
       "    </tr>\n",
       "    <tr>\n",
       "      <th>999</th>\n",
       "      <td>London to Hamburg. Baggage self-check-in was d...</td>\n",
       "      <td>london to hamburg baggage selfcheckin was diab...</td>\n",
       "      <td>0.161364</td>\n",
       "      <td>0.504545</td>\n",
       "    </tr>\n",
       "  </tbody>\n",
       "</table>\n",
       "<p>1000 rows × 4 columns</p>\n",
       "</div>"
      ],
      "text/plain": [
       "                                               reviews  \\\n",
       "0    My itinerary was supposed to be Las Vegas-Chic...   \n",
       "1    Busy day at LHR and flight full. Lounge crowde...   \n",
       "2    Worst seats I have ever encountered in economy...   \n",
       "3    Top Ten REASONS to not use British Airways To ...   \n",
       "4    Easy check in on the way to Heathrow. The flig...   \n",
       "..                                                 ...   \n",
       "995  London to Frankfurt. I need to fly BA for Busi...   \n",
       "996  Gatwick to Malaga. When booking the tickets, I...   \n",
       "997  Bermuda to Gatwick. Usual window and Aisle sea...   \n",
       "998  Aberdeen to Boston via London Heathrow. I foun...   \n",
       "999  London to Hamburg. Baggage self-check-in was d...   \n",
       "\n",
       "                                     reviews_processed  polarity  subjectivity  \n",
       "0    my itinerary was supposed to be las vegaschica... -0.027485      0.471345  \n",
       "1    busy day at lhr and flight full lounge crowded...  0.323939      0.452727  \n",
       "2    worst seats i have ever encountered in economy...  0.071429      0.351190  \n",
       "3    top ten reasons to not use british airways to ...  0.047209      0.533032  \n",
       "4    easy check in on the way to heathrow the fligh...  0.096667      0.306667  \n",
       "..                                                 ...       ...           ...  \n",
       "995  london to frankfurt i need to fly ba for busin...  0.021875      0.559375  \n",
       "996  gatwick to malaga when booking the tickets i r...  0.524911      0.756429  \n",
       "997  bermuda to gatwick usual window and aisle seat...  0.051667      0.457500  \n",
       "998  aberdeen to boston via london heathrow i found...  0.040000      0.365000  \n",
       "999  london to hamburg baggage selfcheckin was diab...  0.161364      0.504545  \n",
       "\n",
       "[1000 rows x 4 columns]"
      ]
     },
     "execution_count": 78,
     "metadata": {},
     "output_type": "execute_result"
    }
   ],
   "source": [
    "df"
   ]
  },
  {
   "cell_type": "code",
   "execution_count": 79,
   "metadata": {},
   "outputs": [
    {
     "data": {
      "text/html": [
       "<div>\n",
       "<style scoped>\n",
       "    .dataframe tbody tr th:only-of-type {\n",
       "        vertical-align: middle;\n",
       "    }\n",
       "\n",
       "    .dataframe tbody tr th {\n",
       "        vertical-align: top;\n",
       "    }\n",
       "\n",
       "    .dataframe thead th {\n",
       "        text-align: right;\n",
       "    }\n",
       "</style>\n",
       "<table border=\"1\" class=\"dataframe\">\n",
       "  <thead>\n",
       "    <tr style=\"text-align: right;\">\n",
       "      <th></th>\n",
       "      <th>polarity</th>\n",
       "      <th>subjectivity</th>\n",
       "    </tr>\n",
       "  </thead>\n",
       "  <tbody>\n",
       "    <tr>\n",
       "      <th>count</th>\n",
       "      <td>1000.000000</td>\n",
       "      <td>1000.000000</td>\n",
       "    </tr>\n",
       "    <tr>\n",
       "      <th>mean</th>\n",
       "      <td>0.079185</td>\n",
       "      <td>0.490787</td>\n",
       "    </tr>\n",
       "    <tr>\n",
       "      <th>std</th>\n",
       "      <td>0.198935</td>\n",
       "      <td>0.127226</td>\n",
       "    </tr>\n",
       "    <tr>\n",
       "      <th>min</th>\n",
       "      <td>-0.766667</td>\n",
       "      <td>0.000000</td>\n",
       "    </tr>\n",
       "    <tr>\n",
       "      <th>25%</th>\n",
       "      <td>-0.039676</td>\n",
       "      <td>0.416258</td>\n",
       "    </tr>\n",
       "    <tr>\n",
       "      <th>50%</th>\n",
       "      <td>0.067247</td>\n",
       "      <td>0.490188</td>\n",
       "    </tr>\n",
       "    <tr>\n",
       "      <th>75%</th>\n",
       "      <td>0.196765</td>\n",
       "      <td>0.565606</td>\n",
       "    </tr>\n",
       "    <tr>\n",
       "      <th>max</th>\n",
       "      <td>0.715000</td>\n",
       "      <td>0.950000</td>\n",
       "    </tr>\n",
       "  </tbody>\n",
       "</table>\n",
       "</div>"
      ],
      "text/plain": [
       "          polarity  subjectivity\n",
       "count  1000.000000   1000.000000\n",
       "mean      0.079185      0.490787\n",
       "std       0.198935      0.127226\n",
       "min      -0.766667      0.000000\n",
       "25%      -0.039676      0.416258\n",
       "50%       0.067247      0.490188\n",
       "75%       0.196765      0.565606\n",
       "max       0.715000      0.950000"
      ]
     },
     "execution_count": 79,
     "metadata": {},
     "output_type": "execute_result"
    },
    {
     "data": {
      "text/html": [
       "<div>\n",
       "<style scoped>\n",
       "    .dataframe tbody tr th:only-of-type {\n",
       "        vertical-align: middle;\n",
       "    }\n",
       "\n",
       "    .dataframe tbody tr th {\n",
       "        vertical-align: top;\n",
       "    }\n",
       "\n",
       "    .dataframe thead th {\n",
       "        text-align: right;\n",
       "    }\n",
       "</style>\n",
       "<table border=\"1\" class=\"dataframe\">\n",
       "  <thead>\n",
       "    <tr style=\"text-align: right;\">\n",
       "      <th></th>\n",
       "      <th>polarity</th>\n",
       "      <th>subjectivity</th>\n",
       "    </tr>\n",
       "  </thead>\n",
       "  <tbody>\n",
       "    <tr>\n",
       "      <th>count</th>\n",
       "      <td>1000.000000</td>\n",
       "      <td>1000.000000</td>\n",
       "    </tr>\n",
       "    <tr>\n",
       "      <th>mean</th>\n",
       "      <td>0.079185</td>\n",
       "      <td>0.490787</td>\n",
       "    </tr>\n",
       "    <tr>\n",
       "      <th>std</th>\n",
       "      <td>0.198935</td>\n",
       "      <td>0.127226</td>\n",
       "    </tr>\n",
       "    <tr>\n",
       "      <th>min</th>\n",
       "      <td>-0.766667</td>\n",
       "      <td>0.000000</td>\n",
       "    </tr>\n",
       "    <tr>\n",
       "      <th>25%</th>\n",
       "      <td>-0.039676</td>\n",
       "      <td>0.416258</td>\n",
       "    </tr>\n",
       "    <tr>\n",
       "      <th>50%</th>\n",
       "      <td>0.067247</td>\n",
       "      <td>0.490188</td>\n",
       "    </tr>\n",
       "    <tr>\n",
       "      <th>75%</th>\n",
       "      <td>0.196765</td>\n",
       "      <td>0.565606</td>\n",
       "    </tr>\n",
       "    <tr>\n",
       "      <th>max</th>\n",
       "      <td>0.715000</td>\n",
       "      <td>0.950000</td>\n",
       "    </tr>\n",
       "  </tbody>\n",
       "</table>\n",
       "</div>"
      ],
      "text/plain": [
       "          polarity  subjectivity\n",
       "count  1000.000000   1000.000000\n",
       "mean      0.079185      0.490787\n",
       "std       0.198935      0.127226\n",
       "min      -0.766667      0.000000\n",
       "25%      -0.039676      0.416258\n",
       "50%       0.067247      0.490188\n",
       "75%       0.196765      0.565606\n",
       "max       0.715000      0.950000"
      ]
     },
     "execution_count": 79,
     "metadata": {},
     "output_type": "execute_result"
    }
   ],
   "source": [
    "df.describe()"
   ]
  },
  {
   "cell_type": "code",
   "execution_count": 80,
   "metadata": {},
   "outputs": [
    {
     "data": {
      "image/png": "[encoded data removed]",
      "text/plain": [
       "<Figure size 432x288 with 1 Axes>"
      ]
     },
     "metadata": {
      "needs_background": "light"
     },
     "output_type": "display_data"
    },
    {
     "data": {
      "image/png": "[encoded data removed]",
      "text/plain": [
       "<Figure size 432x288 with 1 Axes>"
      ]
     },
     "metadata": {
      "needs_background": "light"
     },
     "output_type": "display_data"
    }
   ],
   "source": [
    "df.polarity.plot(kind='hist')\n",
    "plt.show()"
   ]
  },
  {
   "cell_type": "code",
   "execution_count": 81,
   "metadata": {
    "scrolled": true
   },
   "outputs": [
    {
     "data": {
      "image/png": "[encoded data removed]",
      "text/plain": [
       "<Figure size 432x288 with 1 Axes>"
      ]
     },
     "metadata": {
      "needs_background": "light"
     },
     "output_type": "display_data"
    },
    {
     "data": {
      "image/png": "[encoded data removed]",
      "text/plain": [
       "<Figure size 432x288 with 1 Axes>"
      ]
     },
     "metadata": {
      "needs_background": "light"
     },
     "output_type": "display_data"
    }
   ],
   "source": [
    "df.subjectivity.plot(kind='hist')\n",
    "plt.show()"
   ]
  },
  {
   "cell_type": "code",
   "execution_count": 82,
   "metadata": {},
   "outputs": [],
   "source": [
    "import matplotlib.pyplot as plt\n",
    "import seaborn as sns\n",
    "from matplotlib.offsetbox import AnchoredText\n",
    "%matplotlib inline"
   ]
  },
  {
   "cell_type": "code",
   "execution_count": 83,
   "metadata": {},
   "outputs": [
    {
     "data": {
      "image/png": "[encoded data removed]",
      "text/plain": [
       "<Figure size 720x720 with 9 Axes>"
      ]
     },
     "metadata": {
      "needs_background": "light"
     },
     "output_type": "display_data"
    },
    {
     "data": {
      "image/png": "[encoded data removed]",
      "text/plain": [
       "<Figure size 720x720 with 9 Axes>"
      ]
     },
     "metadata": {
      "needs_background": "light"
     },
     "output_type": "display_data"
    }
   ],
   "source": [
    "# reference [6]:\n",
    "df.plot(kind='density', subplots=True, layout=(3,3), sharex=False,figsize=(10,10))\n",
    "plt.show()"
   ]
  },
  {
   "cell_type": "code",
   "execution_count": 84,
   "metadata": {},
   "outputs": [
    {
     "data": {
      "image/png": "[encoded data removed]",
      "text/plain": [
       "<Figure size 720x720 with 9 Axes>"
      ]
     },
     "metadata": {
      "needs_background": "light"
     },
     "output_type": "display_data"
    },
    {
     "data": {
      "image/png": "[encoded data removed]",
      "text/plain": [
       "<Figure size 720x720 with 9 Axes>"
      ]
     },
     "metadata": {
      "needs_background": "light"
     },
     "output_type": "display_data"
    }
   ],
   "source": [
    "df.plot(kind='box', subplots=True, layout=(3,3), sharex=False, sharey=False,figsize=(10,10))\n",
    "plt.show()"
   ]
  },
  {
   "cell_type": "code",
   "execution_count": 85,
   "metadata": {},
   "outputs": [
    {
     "name": "stdout",
     "output_type": "stream",
     "text": [
      "<class 'pandas.core.frame.DataFrame'>\n",
      "RangeIndex: 1000 entries, 0 to 999\n",
      "Data columns (total 4 columns):\n",
      " #   Column             Non-Null Count  Dtype  \n",
      "---  ------             --------------  -----  \n",
      " 0   reviews            1000 non-null   object \n",
      " 1   reviews_processed  1000 non-null   object \n",
      " 2   polarity           1000 non-null   float64\n",
      " 3   subjectivity       1000 non-null   float64\n",
      "dtypes: float64(2), object(2)\n",
      "memory usage: 31.4+ KB\n",
      "<class 'pandas.core.frame.DataFrame'>\n",
      "RangeIndex: 1000 entries, 0 to 999\n",
      "Data columns (total 4 columns):\n",
      " #   Column             Non-Null Count  Dtype  \n",
      "---  ------             --------------  -----  \n",
      " 0   reviews            1000 non-null   object \n",
      " 1   reviews_processed  1000 non-null   object \n",
      " 2   polarity           1000 non-null   float64\n",
      " 3   subjectivity       1000 non-null   float64\n",
      "dtypes: float64(2), object(2)\n",
      "memory usage: 31.4+ KB\n"
     ]
    }
   ],
   "source": [
    "df.info()"
   ]
  },
  {
   "cell_type": "code",
   "execution_count": 86,
   "metadata": {},
   "outputs": [],
   "source": [
    "df.drop(['reviews'],axis=1,inplace=True)"
   ]
  },
  {
   "cell_type": "code",
   "execution_count": 87,
   "metadata": {},
   "outputs": [
    {
     "data": {
      "text/html": [
       "<div>\n",
       "<style scoped>\n",
       "    .dataframe tbody tr th:only-of-type {\n",
       "        vertical-align: middle;\n",
       "    }\n",
       "\n",
       "    .dataframe tbody tr th {\n",
       "        vertical-align: top;\n",
       "    }\n",
       "\n",
       "    .dataframe thead th {\n",
       "        text-align: right;\n",
       "    }\n",
       "</style>\n",
       "<table border=\"1\" class=\"dataframe\">\n",
       "  <thead>\n",
       "    <tr style=\"text-align: right;\">\n",
       "      <th></th>\n",
       "      <th>reviews_processed</th>\n",
       "      <th>polarity</th>\n",
       "      <th>subjectivity</th>\n",
       "    </tr>\n",
       "  </thead>\n",
       "  <tbody>\n",
       "    <tr>\n",
       "      <th>0</th>\n",
       "      <td>my itinerary was supposed to be las vegaschica...</td>\n",
       "      <td>-0.027485</td>\n",
       "      <td>0.471345</td>\n",
       "    </tr>\n",
       "    <tr>\n",
       "      <th>1</th>\n",
       "      <td>busy day at lhr and flight full lounge crowded...</td>\n",
       "      <td>0.323939</td>\n",
       "      <td>0.452727</td>\n",
       "    </tr>\n",
       "    <tr>\n",
       "      <th>2</th>\n",
       "      <td>worst seats i have ever encountered in economy...</td>\n",
       "      <td>0.071429</td>\n",
       "      <td>0.351190</td>\n",
       "    </tr>\n",
       "    <tr>\n",
       "      <th>3</th>\n",
       "      <td>top ten reasons to not use british airways to ...</td>\n",
       "      <td>0.047209</td>\n",
       "      <td>0.533032</td>\n",
       "    </tr>\n",
       "    <tr>\n",
       "      <th>4</th>\n",
       "      <td>easy check in on the way to heathrow the fligh...</td>\n",
       "      <td>0.096667</td>\n",
       "      <td>0.306667</td>\n",
       "    </tr>\n",
       "    <tr>\n",
       "      <th>5</th>\n",
       "      <td>online check in worked fine quick security che...</td>\n",
       "      <td>0.411111</td>\n",
       "      <td>0.616667</td>\n",
       "    </tr>\n",
       "    <tr>\n",
       "      <th>6</th>\n",
       "      <td>the ba first lounge at terminal 5 was a zoo a...</td>\n",
       "      <td>-0.089712</td>\n",
       "      <td>0.499853</td>\n",
       "    </tr>\n",
       "    <tr>\n",
       "      <th>7</th>\n",
       "      <td>paid a quick visit to nice yesterday from heat...</td>\n",
       "      <td>0.209470</td>\n",
       "      <td>0.450985</td>\n",
       "    </tr>\n",
       "    <tr>\n",
       "      <th>8</th>\n",
       "      <td>words fail to describe this last awful flight ...</td>\n",
       "      <td>-0.224058</td>\n",
       "      <td>0.563284</td>\n",
       "    </tr>\n",
       "    <tr>\n",
       "      <th>9</th>\n",
       "      <td>absolutely terrible experience the app would n...</td>\n",
       "      <td>-0.233929</td>\n",
       "      <td>0.476190</td>\n",
       "    </tr>\n",
       "  </tbody>\n",
       "</table>\n",
       "</div>"
      ],
      "text/plain": [
       "                                   reviews_processed  polarity  subjectivity\n",
       "0  my itinerary was supposed to be las vegaschica... -0.027485      0.471345\n",
       "1  busy day at lhr and flight full lounge crowded...  0.323939      0.452727\n",
       "2  worst seats i have ever encountered in economy...  0.071429      0.351190\n",
       "3  top ten reasons to not use british airways to ...  0.047209      0.533032\n",
       "4  easy check in on the way to heathrow the fligh...  0.096667      0.306667\n",
       "5  online check in worked fine quick security che...  0.411111      0.616667\n",
       "6   the ba first lounge at terminal 5 was a zoo a... -0.089712      0.499853\n",
       "7  paid a quick visit to nice yesterday from heat...  0.209470      0.450985\n",
       "8  words fail to describe this last awful flight ... -0.224058      0.563284\n",
       "9  absolutely terrible experience the app would n... -0.233929      0.476190"
      ]
     },
     "execution_count": 87,
     "metadata": {},
     "output_type": "execute_result"
    },
    {
     "data": {
      "text/html": [
       "<div>\n",
       "<style scoped>\n",
       "    .dataframe tbody tr th:only-of-type {\n",
       "        vertical-align: middle;\n",
       "    }\n",
       "\n",
       "    .dataframe tbody tr th {\n",
       "        vertical-align: top;\n",
       "    }\n",
       "\n",
       "    .dataframe thead th {\n",
       "        text-align: right;\n",
       "    }\n",
       "</style>\n",
       "<table border=\"1\" class=\"dataframe\">\n",
       "  <thead>\n",
       "    <tr style=\"text-align: right;\">\n",
       "      <th></th>\n",
       "      <th>reviews_processed</th>\n",
       "      <th>polarity</th>\n",
       "      <th>subjectivity</th>\n",
       "    </tr>\n",
       "  </thead>\n",
       "  <tbody>\n",
       "    <tr>\n",
       "      <th>0</th>\n",
       "      <td>my itinerary was supposed to be las vegaschica...</td>\n",
       "      <td>-0.027485</td>\n",
       "      <td>0.471345</td>\n",
       "    </tr>\n",
       "    <tr>\n",
       "      <th>1</th>\n",
       "      <td>busy day at lhr and flight full lounge crowded...</td>\n",
       "      <td>0.323939</td>\n",
       "      <td>0.452727</td>\n",
       "    </tr>\n",
       "    <tr>\n",
       "      <th>2</th>\n",
       "      <td>worst seats i have ever encountered in economy...</td>\n",
       "      <td>0.071429</td>\n",
       "      <td>0.351190</td>\n",
       "    </tr>\n",
       "    <tr>\n",
       "      <th>3</th>\n",
       "      <td>top ten reasons to not use british airways to ...</td>\n",
       "      <td>0.047209</td>\n",
       "      <td>0.533032</td>\n",
       "    </tr>\n",
       "    <tr>\n",
       "      <th>4</th>\n",
       "      <td>easy check in on the way to heathrow the fligh...</td>\n",
       "      <td>0.096667</td>\n",
       "      <td>0.306667</td>\n",
       "    </tr>\n",
       "    <tr>\n",
       "      <th>5</th>\n",
       "      <td>online check in worked fine quick security che...</td>\n",
       "      <td>0.411111</td>\n",
       "      <td>0.616667</td>\n",
       "    </tr>\n",
       "    <tr>\n",
       "      <th>6</th>\n",
       "      <td>the ba first lounge at terminal 5 was a zoo a...</td>\n",
       "      <td>-0.089712</td>\n",
       "      <td>0.499853</td>\n",
       "    </tr>\n",
       "    <tr>\n",
       "      <th>7</th>\n",
       "      <td>paid a quick visit to nice yesterday from heat...</td>\n",
       "      <td>0.209470</td>\n",
       "      <td>0.450985</td>\n",
       "    </tr>\n",
       "    <tr>\n",
       "      <th>8</th>\n",
       "      <td>words fail to describe this last awful flight ...</td>\n",
       "      <td>-0.224058</td>\n",
       "      <td>0.563284</td>\n",
       "    </tr>\n",
       "    <tr>\n",
       "      <th>9</th>\n",
       "      <td>absolutely terrible experience the app would n...</td>\n",
       "      <td>-0.233929</td>\n",
       "      <td>0.476190</td>\n",
       "    </tr>\n",
       "  </tbody>\n",
       "</table>\n",
       "</div>"
      ],
      "text/plain": [
       "                                   reviews_processed  polarity  subjectivity\n",
       "0  my itinerary was supposed to be las vegaschica... -0.027485      0.471345\n",
       "1  busy day at lhr and flight full lounge crowded...  0.323939      0.452727\n",
       "2  worst seats i have ever encountered in economy...  0.071429      0.351190\n",
       "3  top ten reasons to not use british airways to ...  0.047209      0.533032\n",
       "4  easy check in on the way to heathrow the fligh...  0.096667      0.306667\n",
       "5  online check in worked fine quick security che...  0.411111      0.616667\n",
       "6   the ba first lounge at terminal 5 was a zoo a... -0.089712      0.499853\n",
       "7  paid a quick visit to nice yesterday from heat...  0.209470      0.450985\n",
       "8  words fail to describe this last awful flight ... -0.224058      0.563284\n",
       "9  absolutely terrible experience the app would n... -0.233929      0.476190"
      ]
     },
     "execution_count": 87,
     "metadata": {},
     "output_type": "execute_result"
    }
   ],
   "source": [
    "df.head(10)"
   ]
  },
  {
   "cell_type": "code",
   "execution_count": 93,
   "metadata": {},
   "outputs": [
    {
     "name": "stdout",
     "output_type": "stream",
     "text": [
      "<class 'pandas.core.frame.DataFrame'>\n",
      "RangeIndex: 1000 entries, 0 to 999\n",
      "Data columns (total 3 columns):\n",
      " #   Column             Non-Null Count  Dtype  \n",
      "---  ------             --------------  -----  \n",
      " 0   reviews_processed  1000 non-null   object \n",
      " 1   polarity           1000 non-null   float64\n",
      " 2   subjectivity       1000 non-null   float64\n",
      "dtypes: float64(2), object(1)\n",
      "memory usage: 23.6+ KB\n",
      "<class 'pandas.core.frame.DataFrame'>\n",
      "RangeIndex: 1000 entries, 0 to 999\n",
      "Data columns (total 3 columns):\n",
      " #   Column             Non-Null Count  Dtype  \n",
      "---  ------             --------------  -----  \n",
      " 0   reviews_processed  1000 non-null   object \n",
      " 1   polarity           1000 non-null   float64\n",
      " 2   subjectivity       1000 non-null   float64\n",
      "dtypes: float64(2), object(1)\n",
      "memory usage: 23.6+ KB\n"
     ]
    }
   ],
   "source": [
    "df.info()"
   ]
  },
  {
   "cell_type": "code",
   "execution_count": 103,
   "metadata": {},
   "outputs": [],
   "source": [
    "#df[['polarity', 'subjectivity']] = df['reviews_processed'].apply(lambda reviews_processed: pd.Series(TextBlob(reviews_processed).sentiment))\n",
    "\n",
    "df[['pol']]=df['polarity'].apply(lambda polarity: True if polarity > 0 else False)  "
   ]
  },
  {
   "cell_type": "code",
   "execution_count": 104,
   "metadata": {},
   "outputs": [
    {
     "data": {
      "text/html": [
       "<div>\n",
       "<style scoped>\n",
       "    .dataframe tbody tr th:only-of-type {\n",
       "        vertical-align: middle;\n",
       "    }\n",
       "\n",
       "    .dataframe tbody tr th {\n",
       "        vertical-align: top;\n",
       "    }\n",
       "\n",
       "    .dataframe thead th {\n",
       "        text-align: right;\n",
       "    }\n",
       "</style>\n",
       "<table border=\"1\" class=\"dataframe\">\n",
       "  <thead>\n",
       "    <tr style=\"text-align: right;\">\n",
       "      <th></th>\n",
       "      <th>reviews_processed</th>\n",
       "      <th>polarity</th>\n",
       "      <th>subjectivity</th>\n",
       "      <th>pol</th>\n",
       "    </tr>\n",
       "  </thead>\n",
       "  <tbody>\n",
       "    <tr>\n",
       "      <th>0</th>\n",
       "      <td>my itinerary was supposed to be las vegaschica...</td>\n",
       "      <td>-0.027485</td>\n",
       "      <td>0.471345</td>\n",
       "      <td>False</td>\n",
       "    </tr>\n",
       "    <tr>\n",
       "      <th>1</th>\n",
       "      <td>busy day at lhr and flight full lounge crowded...</td>\n",
       "      <td>0.323939</td>\n",
       "      <td>0.452727</td>\n",
       "      <td>True</td>\n",
       "    </tr>\n",
       "    <tr>\n",
       "      <th>2</th>\n",
       "      <td>worst seats i have ever encountered in economy...</td>\n",
       "      <td>0.071429</td>\n",
       "      <td>0.351190</td>\n",
       "      <td>True</td>\n",
       "    </tr>\n",
       "    <tr>\n",
       "      <th>3</th>\n",
       "      <td>top ten reasons to not use british airways to ...</td>\n",
       "      <td>0.047209</td>\n",
       "      <td>0.533032</td>\n",
       "      <td>True</td>\n",
       "    </tr>\n",
       "    <tr>\n",
       "      <th>4</th>\n",
       "      <td>easy check in on the way to heathrow the fligh...</td>\n",
       "      <td>0.096667</td>\n",
       "      <td>0.306667</td>\n",
       "      <td>True</td>\n",
       "    </tr>\n",
       "    <tr>\n",
       "      <th>...</th>\n",
       "      <td>...</td>\n",
       "      <td>...</td>\n",
       "      <td>...</td>\n",
       "      <td>...</td>\n",
       "    </tr>\n",
       "    <tr>\n",
       "      <th>995</th>\n",
       "      <td>london to frankfurt i need to fly ba for busin...</td>\n",
       "      <td>0.021875</td>\n",
       "      <td>0.559375</td>\n",
       "      <td>True</td>\n",
       "    </tr>\n",
       "    <tr>\n",
       "      <th>996</th>\n",
       "      <td>gatwick to malaga when booking the tickets i r...</td>\n",
       "      <td>0.524911</td>\n",
       "      <td>0.756429</td>\n",
       "      <td>True</td>\n",
       "    </tr>\n",
       "    <tr>\n",
       "      <th>997</th>\n",
       "      <td>bermuda to gatwick usual window and aisle seat...</td>\n",
       "      <td>0.051667</td>\n",
       "      <td>0.457500</td>\n",
       "      <td>True</td>\n",
       "    </tr>\n",
       "    <tr>\n",
       "      <th>998</th>\n",
       "      <td>aberdeen to boston via london heathrow i found...</td>\n",
       "      <td>0.040000</td>\n",
       "      <td>0.365000</td>\n",
       "      <td>True</td>\n",
       "    </tr>\n",
       "    <tr>\n",
       "      <th>999</th>\n",
       "      <td>london to hamburg baggage selfcheckin was diab...</td>\n",
       "      <td>0.161364</td>\n",
       "      <td>0.504545</td>\n",
       "      <td>True</td>\n",
       "    </tr>\n",
       "  </tbody>\n",
       "</table>\n",
       "<p>1000 rows × 4 columns</p>\n",
       "</div>"
      ],
      "text/plain": [
       "                                     reviews_processed  polarity  \\\n",
       "0    my itinerary was supposed to be las vegaschica... -0.027485   \n",
       "1    busy day at lhr and flight full lounge crowded...  0.323939   \n",
       "2    worst seats i have ever encountered in economy...  0.071429   \n",
       "3    top ten reasons to not use british airways to ...  0.047209   \n",
       "4    easy check in on the way to heathrow the fligh...  0.096667   \n",
       "..                                                 ...       ...   \n",
       "995  london to frankfurt i need to fly ba for busin...  0.021875   \n",
       "996  gatwick to malaga when booking the tickets i r...  0.524911   \n",
       "997  bermuda to gatwick usual window and aisle seat...  0.051667   \n",
       "998  aberdeen to boston via london heathrow i found...  0.040000   \n",
       "999  london to hamburg baggage selfcheckin was diab...  0.161364   \n",
       "\n",
       "     subjectivity    pol  \n",
       "0        0.471345  False  \n",
       "1        0.452727   True  \n",
       "2        0.351190   True  \n",
       "3        0.533032   True  \n",
       "4        0.306667   True  \n",
       "..            ...    ...  \n",
       "995      0.559375   True  \n",
       "996      0.756429   True  \n",
       "997      0.457500   True  \n",
       "998      0.365000   True  \n",
       "999      0.504545   True  \n",
       "\n",
       "[1000 rows x 4 columns]"
      ]
     },
     "execution_count": 104,
     "metadata": {},
     "output_type": "execute_result"
    },
    {
     "data": {
      "text/html": [
       "<div>\n",
       "<style scoped>\n",
       "    .dataframe tbody tr th:only-of-type {\n",
       "        vertical-align: middle;\n",
       "    }\n",
       "\n",
       "    .dataframe tbody tr th {\n",
       "        vertical-align: top;\n",
       "    }\n",
       "\n",
       "    .dataframe thead th {\n",
       "        text-align: right;\n",
       "    }\n",
       "</style>\n",
       "<table border=\"1\" class=\"dataframe\">\n",
       "  <thead>\n",
       "    <tr style=\"text-align: right;\">\n",
       "      <th></th>\n",
       "      <th>reviews_processed</th>\n",
       "      <th>polarity</th>\n",
       "      <th>subjectivity</th>\n",
       "      <th>pol</th>\n",
       "    </tr>\n",
       "  </thead>\n",
       "  <tbody>\n",
       "    <tr>\n",
       "      <th>0</th>\n",
       "      <td>my itinerary was supposed to be las vegaschica...</td>\n",
       "      <td>-0.027485</td>\n",
       "      <td>0.471345</td>\n",
       "      <td>False</td>\n",
       "    </tr>\n",
       "    <tr>\n",
       "      <th>1</th>\n",
       "      <td>busy day at lhr and flight full lounge crowded...</td>\n",
       "      <td>0.323939</td>\n",
       "      <td>0.452727</td>\n",
       "      <td>True</td>\n",
       "    </tr>\n",
       "    <tr>\n",
       "      <th>2</th>\n",
       "      <td>worst seats i have ever encountered in economy...</td>\n",
       "      <td>0.071429</td>\n",
       "      <td>0.351190</td>\n",
       "      <td>True</td>\n",
       "    </tr>\n",
       "    <tr>\n",
       "      <th>3</th>\n",
       "      <td>top ten reasons to not use british airways to ...</td>\n",
       "      <td>0.047209</td>\n",
       "      <td>0.533032</td>\n",
       "      <td>True</td>\n",
       "    </tr>\n",
       "    <tr>\n",
       "      <th>4</th>\n",
       "      <td>easy check in on the way to heathrow the fligh...</td>\n",
       "      <td>0.096667</td>\n",
       "      <td>0.306667</td>\n",
       "      <td>True</td>\n",
       "    </tr>\n",
       "    <tr>\n",
       "      <th>...</th>\n",
       "      <td>...</td>\n",
       "      <td>...</td>\n",
       "      <td>...</td>\n",
       "      <td>...</td>\n",
       "    </tr>\n",
       "    <tr>\n",
       "      <th>995</th>\n",
       "      <td>london to frankfurt i need to fly ba for busin...</td>\n",
       "      <td>0.021875</td>\n",
       "      <td>0.559375</td>\n",
       "      <td>True</td>\n",
       "    </tr>\n",
       "    <tr>\n",
       "      <th>996</th>\n",
       "      <td>gatwick to malaga when booking the tickets i r...</td>\n",
       "      <td>0.524911</td>\n",
       "      <td>0.756429</td>\n",
       "      <td>True</td>\n",
       "    </tr>\n",
       "    <tr>\n",
       "      <th>997</th>\n",
       "      <td>bermuda to gatwick usual window and aisle seat...</td>\n",
       "      <td>0.051667</td>\n",
       "      <td>0.457500</td>\n",
       "      <td>True</td>\n",
       "    </tr>\n",
       "    <tr>\n",
       "      <th>998</th>\n",
       "      <td>aberdeen to boston via london heathrow i found...</td>\n",
       "      <td>0.040000</td>\n",
       "      <td>0.365000</td>\n",
       "      <td>True</td>\n",
       "    </tr>\n",
       "    <tr>\n",
       "      <th>999</th>\n",
       "      <td>london to hamburg baggage selfcheckin was diab...</td>\n",
       "      <td>0.161364</td>\n",
       "      <td>0.504545</td>\n",
       "      <td>True</td>\n",
       "    </tr>\n",
       "  </tbody>\n",
       "</table>\n",
       "<p>1000 rows × 4 columns</p>\n",
       "</div>"
      ],
      "text/plain": [
       "                                     reviews_processed  polarity  \\\n",
       "0    my itinerary was supposed to be las vegaschica... -0.027485   \n",
       "1    busy day at lhr and flight full lounge crowded...  0.323939   \n",
       "2    worst seats i have ever encountered in economy...  0.071429   \n",
       "3    top ten reasons to not use british airways to ...  0.047209   \n",
       "4    easy check in on the way to heathrow the fligh...  0.096667   \n",
       "..                                                 ...       ...   \n",
       "995  london to frankfurt i need to fly ba for busin...  0.021875   \n",
       "996  gatwick to malaga when booking the tickets i r...  0.524911   \n",
       "997  bermuda to gatwick usual window and aisle seat...  0.051667   \n",
       "998  aberdeen to boston via london heathrow i found...  0.040000   \n",
       "999  london to hamburg baggage selfcheckin was diab...  0.161364   \n",
       "\n",
       "     subjectivity    pol  \n",
       "0        0.471345  False  \n",
       "1        0.452727   True  \n",
       "2        0.351190   True  \n",
       "3        0.533032   True  \n",
       "4        0.306667   True  \n",
       "..            ...    ...  \n",
       "995      0.559375   True  \n",
       "996      0.756429   True  \n",
       "997      0.457500   True  \n",
       "998      0.365000   True  \n",
       "999      0.504545   True  \n",
       "\n",
       "[1000 rows x 4 columns]"
      ]
     },
     "execution_count": 104,
     "metadata": {},
     "output_type": "execute_result"
    }
   ],
   "source": [
    "df"
   ]
  },
  {
   "cell_type": "code",
   "execution_count": 105,
   "metadata": {},
   "outputs": [
    {
     "data": {
      "text/plain": [
       "True     663\n",
       "False    337\n",
       "Name: pol, dtype: int64"
      ]
     },
     "execution_count": 105,
     "metadata": {},
     "output_type": "execute_result"
    },
    {
     "data": {
      "text/plain": [
       "True     663\n",
       "False    337\n",
       "Name: pol, dtype: int64"
      ]
     },
     "execution_count": 105,
     "metadata": {},
     "output_type": "execute_result"
    }
   ],
   "source": [
    "df.pol.value_counts()"
   ]
  },
  {
   "cell_type": "code",
   "execution_count": null,
   "metadata": {},
   "outputs": [],
   "source": []
  },
  {
   "cell_type": "code",
   "execution_count": 88,
   "metadata": {},
   "outputs": [
    {
     "data": {
      "text/html": [
       "<div>\n",
       "<style scoped>\n",
       "    .dataframe tbody tr th:only-of-type {\n",
       "        vertical-align: middle;\n",
       "    }\n",
       "\n",
       "    .dataframe tbody tr th {\n",
       "        vertical-align: top;\n",
       "    }\n",
       "\n",
       "    .dataframe thead th {\n",
       "        text-align: right;\n",
       "    }\n",
       "</style>\n",
       "<table border=\"1\" class=\"dataframe\">\n",
       "  <thead>\n",
       "    <tr style=\"text-align: right;\">\n",
       "      <th></th>\n",
       "      <th>polarity</th>\n",
       "      <th>subjectivity</th>\n",
       "    </tr>\n",
       "  </thead>\n",
       "  <tbody>\n",
       "    <tr>\n",
       "      <th>count</th>\n",
       "      <td>1000.000000</td>\n",
       "      <td>1000.000000</td>\n",
       "    </tr>\n",
       "    <tr>\n",
       "      <th>mean</th>\n",
       "      <td>0.079185</td>\n",
       "      <td>0.490787</td>\n",
       "    </tr>\n",
       "    <tr>\n",
       "      <th>std</th>\n",
       "      <td>0.198935</td>\n",
       "      <td>0.127226</td>\n",
       "    </tr>\n",
       "    <tr>\n",
       "      <th>min</th>\n",
       "      <td>-0.766667</td>\n",
       "      <td>0.000000</td>\n",
       "    </tr>\n",
       "    <tr>\n",
       "      <th>25%</th>\n",
       "      <td>-0.039676</td>\n",
       "      <td>0.416258</td>\n",
       "    </tr>\n",
       "    <tr>\n",
       "      <th>50%</th>\n",
       "      <td>0.067247</td>\n",
       "      <td>0.490188</td>\n",
       "    </tr>\n",
       "    <tr>\n",
       "      <th>75%</th>\n",
       "      <td>0.196765</td>\n",
       "      <td>0.565606</td>\n",
       "    </tr>\n",
       "    <tr>\n",
       "      <th>max</th>\n",
       "      <td>0.715000</td>\n",
       "      <td>0.950000</td>\n",
       "    </tr>\n",
       "  </tbody>\n",
       "</table>\n",
       "</div>"
      ],
      "text/plain": [
       "          polarity  subjectivity\n",
       "count  1000.000000   1000.000000\n",
       "mean      0.079185      0.490787\n",
       "std       0.198935      0.127226\n",
       "min      -0.766667      0.000000\n",
       "25%      -0.039676      0.416258\n",
       "50%       0.067247      0.490188\n",
       "75%       0.196765      0.565606\n",
       "max       0.715000      0.950000"
      ]
     },
     "execution_count": 88,
     "metadata": {},
     "output_type": "execute_result"
    },
    {
     "data": {
      "text/html": [
       "<div>\n",
       "<style scoped>\n",
       "    .dataframe tbody tr th:only-of-type {\n",
       "        vertical-align: middle;\n",
       "    }\n",
       "\n",
       "    .dataframe tbody tr th {\n",
       "        vertical-align: top;\n",
       "    }\n",
       "\n",
       "    .dataframe thead th {\n",
       "        text-align: right;\n",
       "    }\n",
       "</style>\n",
       "<table border=\"1\" class=\"dataframe\">\n",
       "  <thead>\n",
       "    <tr style=\"text-align: right;\">\n",
       "      <th></th>\n",
       "      <th>polarity</th>\n",
       "      <th>subjectivity</th>\n",
       "    </tr>\n",
       "  </thead>\n",
       "  <tbody>\n",
       "    <tr>\n",
       "      <th>count</th>\n",
       "      <td>1000.000000</td>\n",
       "      <td>1000.000000</td>\n",
       "    </tr>\n",
       "    <tr>\n",
       "      <th>mean</th>\n",
       "      <td>0.079185</td>\n",
       "      <td>0.490787</td>\n",
       "    </tr>\n",
       "    <tr>\n",
       "      <th>std</th>\n",
       "      <td>0.198935</td>\n",
       "      <td>0.127226</td>\n",
       "    </tr>\n",
       "    <tr>\n",
       "      <th>min</th>\n",
       "      <td>-0.766667</td>\n",
       "      <td>0.000000</td>\n",
       "    </tr>\n",
       "    <tr>\n",
       "      <th>25%</th>\n",
       "      <td>-0.039676</td>\n",
       "      <td>0.416258</td>\n",
       "    </tr>\n",
       "    <tr>\n",
       "      <th>50%</th>\n",
       "      <td>0.067247</td>\n",
       "      <td>0.490188</td>\n",
       "    </tr>\n",
       "    <tr>\n",
       "      <th>75%</th>\n",
       "      <td>0.196765</td>\n",
       "      <td>0.565606</td>\n",
       "    </tr>\n",
       "    <tr>\n",
       "      <th>max</th>\n",
       "      <td>0.715000</td>\n",
       "      <td>0.950000</td>\n",
       "    </tr>\n",
       "  </tbody>\n",
       "</table>\n",
       "</div>"
      ],
      "text/plain": [
       "          polarity  subjectivity\n",
       "count  1000.000000   1000.000000\n",
       "mean      0.079185      0.490787\n",
       "std       0.198935      0.127226\n",
       "min      -0.766667      0.000000\n",
       "25%      -0.039676      0.416258\n",
       "50%       0.067247      0.490188\n",
       "75%       0.196765      0.565606\n",
       "max       0.715000      0.950000"
      ]
     },
     "execution_count": 88,
     "metadata": {},
     "output_type": "execute_result"
    }
   ],
   "source": [
    "df.describe()"
   ]
  },
  {
   "cell_type": "markdown",
   "metadata": {},
   "source": [
    "### The averagre subjectivity for the reviews is almost 0.5 and the reviews are 0.08 in average which means it tends to be negative .So,this is indication that the average opinion is negative and that there are problems related to the most repeated words mentioned earlier ('seat' , 'service' ,'time','food') which needs to be more invistegated."
   ]
  },
  {
   "cell_type": "markdown",
   "metadata": {},
   "source": [
    "# References:\n",
    "\n",
    "[1] https://stackoverflow.com/questions/45306988/column-of-lists-convert-list-to-string-as-a-new-column\n",
    "\n",
    "[2] https://stackoverflow.com/questions/40950310/strip-trim-all-strings-of-a-dataframe\n",
    "\n",
    "[3] https://towardsdatascience.com/end-to-end-topic-modeling-in-python-latent-dirichlet-allocation-lda-35ce4ed6b3e0\n",
    "\n",
    "[4] https://blog.csdn.net/Birdy_cee/article/details/130693238\n",
    "\n",
    "[5] https://www.analyticsvidhya.com/blog/2022/07/sentiment-analysis-using-python/\n",
    "\n",
    "[6] S.Sotiriadis Class 7: Introduction to Data Modelling [PowerPoint Slides].Available: https://moodle.bbk.ac.uk/mod/folder/view.php?id=1881640\n",
    "\n",
    "\n"
   ]
  }
 ],
 "metadata": {
  "kernelspec": {
   "display_name": "Python 3",
   "language": "python",
   "name": "python3"
  },
  "language_info": {
   "codemirror_mode": {
    "name": "ipython",
    "version": 3
   },
   "file_extension": ".py",
   "mimetype": "text/x-python",
   "name": "python",
   "nbconvert_exporter": "python",
   "pygments_lexer": "ipython3",
   "version": "3.8.8"
  },
  "vscode": {
   "interpreter": {
    "hash": "4f7924c4c56b083e0e50eadfe7ef592a7a8ef70df33a0047f82280e6be1afe15"
   }
  }
 },
 "nbformat": 4,
 "nbformat_minor": 2
}
